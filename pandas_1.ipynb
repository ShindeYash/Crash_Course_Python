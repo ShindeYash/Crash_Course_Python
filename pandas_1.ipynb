{
 "cells": [
  {
   "cell_type": "markdown",
   "id": "66dc5438",
   "metadata": {},
   "source": [
    "# Pandas"
   ]
  },
  {
   "cell_type": "code",
   "execution_count": 1,
   "id": "814366f2",
   "metadata": {},
   "outputs": [],
   "source": [
    "import pandas as pd"
   ]
  },
  {
   "cell_type": "markdown",
   "id": "6a5da05b",
   "metadata": {},
   "source": [
    "pandas is an open source library that is amde mainly for working with relational and labeled data both easily and intuitively\n",
    "\n",
    "It provides various data structures and operations formanupulating numerical data and time series\n",
    "\n",
    "It is used for data cleaning , analysis, exploring and manipulating\n"
   ]
  },
  {
   "cell_type": "markdown",
   "id": "9de21eed",
   "metadata": {},
   "source": [
    "# 3 Data Structures in pandas\n",
    "\n",
    "1. Series: 1 Dim\n",
    "\n",
    "2. DataFrame : 2 Dim\n",
    "\n",
    "3. Panel: Combination of multiple dataframes\n",
    "    "
   ]
  },
  {
   "cell_type": "code",
   "execution_count": 3,
   "id": "f17bc649",
   "metadata": {},
   "outputs": [
    {
     "name": "stdout",
     "output_type": "stream",
     "text": [
      "Series([], dtype: object)\n"
     ]
    }
   ],
   "source": [
    "print(pd.Series(dtype=object))"
   ]
  },
  {
   "cell_type": "code",
   "execution_count": 4,
   "id": "c2f831c2",
   "metadata": {},
   "outputs": [],
   "source": [
    "name = ['Avinash', 'Harshal', 'Sakshi', 'Amit', 'Ram']"
   ]
  },
  {
   "cell_type": "code",
   "execution_count": 5,
   "id": "95711667",
   "metadata": {},
   "outputs": [
    {
     "data": {
      "text/plain": [
       "['Avinash', 'Harshal', 'Sakshi', 'Amit', 'Ram']"
      ]
     },
     "execution_count": 5,
     "metadata": {},
     "output_type": "execute_result"
    }
   ],
   "source": [
    "name"
   ]
  },
  {
   "cell_type": "code",
   "execution_count": 6,
   "id": "731652c3",
   "metadata": {},
   "outputs": [
    {
     "ename": "SyntaxError",
     "evalue": "invalid syntax (4146175670.py, line 1)",
     "output_type": "error",
     "traceback": [
      "\u001b[1;36m  Input \u001b[1;32mIn [6]\u001b[1;36m\u001b[0m\n\u001b[1;33m    pd.Series() Structure:\u001b[0m\n\u001b[1;37m                ^\u001b[0m\n\u001b[1;31mSyntaxError\u001b[0m\u001b[1;31m:\u001b[0m invalid syntax\n"
     ]
    }
   ],
   "source": [
    "pd.Series() Structure:\n",
    "    \n",
    "Init signature:\n",
    "pd.Series(\n",
    "    data=None,\n",
    "    index=None,\n",
    "    dtype: 'Dtype | None' = None,\n",
    "    ) "
   ]
  },
  {
   "cell_type": "code",
   "execution_count": 9,
   "id": "c38492ec",
   "metadata": {},
   "outputs": [],
   "source": [
    "n = pd.Series(name)"
   ]
  },
  {
   "cell_type": "code",
   "execution_count": 10,
   "id": "dc97b6d4",
   "metadata": {},
   "outputs": [
    {
     "data": {
      "text/plain": [
       "1"
      ]
     },
     "execution_count": 10,
     "metadata": {},
     "output_type": "execute_result"
    }
   ],
   "source": [
    "n.ndim"
   ]
  },
  {
   "cell_type": "code",
   "execution_count": 11,
   "id": "7fa0a546",
   "metadata": {},
   "outputs": [
    {
     "data": {
      "text/plain": [
       "0    Avinash\n",
       "1    Harshal\n",
       "2     Sakshi\n",
       "3       Amit\n",
       "4        Ram\n",
       "dtype: object"
      ]
     },
     "execution_count": 11,
     "metadata": {},
     "output_type": "execute_result"
    }
   ],
   "source": [
    "n"
   ]
  },
  {
   "cell_type": "markdown",
   "id": "f161e517",
   "metadata": {},
   "source": [
    "# 3 Things:\n",
    "1. Index\n",
    "2. Data values\n",
    "3.Data Type"
   ]
  },
  {
   "cell_type": "code",
   "execution_count": 12,
   "id": "c8e3d399",
   "metadata": {},
   "outputs": [
    {
     "data": {
      "text/plain": [
       "'Avinash'"
      ]
     },
     "execution_count": 12,
     "metadata": {},
     "output_type": "execute_result"
    }
   ],
   "source": [
    "# Indexing\n",
    "n[0]"
   ]
  },
  {
   "cell_type": "code",
   "execution_count": 13,
   "id": "716f0253",
   "metadata": {},
   "outputs": [
    {
     "data": {
      "text/plain": [
       "2    Sakshi\n",
       "3      Amit\n",
       "4       Ram\n",
       "dtype: object"
      ]
     },
     "execution_count": 13,
     "metadata": {},
     "output_type": "execute_result"
    }
   ],
   "source": [
    "# slicing\n",
    "n[2:]"
   ]
  },
  {
   "cell_type": "code",
   "execution_count": 14,
   "id": "29d76196",
   "metadata": {},
   "outputs": [
    {
     "ename": "KeyError",
     "evalue": "-1",
     "output_type": "error",
     "traceback": [
      "\u001b[1;31m---------------------------------------------------------------------------\u001b[0m",
      "\u001b[1;31mValueError\u001b[0m                                Traceback (most recent call last)",
      "File \u001b[1;32m~\\AppData\\Roaming\\Python\\Python39\\site-packages\\pandas\\core\\indexes\\range.py:391\u001b[0m, in \u001b[0;36mRangeIndex.get_loc\u001b[1;34m(self, key, method, tolerance)\u001b[0m\n\u001b[0;32m    390\u001b[0m \u001b[38;5;28;01mtry\u001b[39;00m:\n\u001b[1;32m--> 391\u001b[0m     \u001b[38;5;28;01mreturn\u001b[39;00m \u001b[38;5;28;43mself\u001b[39;49m\u001b[38;5;241;43m.\u001b[39;49m\u001b[43m_range\u001b[49m\u001b[38;5;241;43m.\u001b[39;49m\u001b[43mindex\u001b[49m\u001b[43m(\u001b[49m\u001b[43mnew_key\u001b[49m\u001b[43m)\u001b[49m\n\u001b[0;32m    392\u001b[0m \u001b[38;5;28;01mexcept\u001b[39;00m \u001b[38;5;167;01mValueError\u001b[39;00m \u001b[38;5;28;01mas\u001b[39;00m err:\n",
      "\u001b[1;31mValueError\u001b[0m: -1 is not in range",
      "\nThe above exception was the direct cause of the following exception:\n",
      "\u001b[1;31mKeyError\u001b[0m                                  Traceback (most recent call last)",
      "Input \u001b[1;32mIn [14]\u001b[0m, in \u001b[0;36m<cell line: 1>\u001b[1;34m()\u001b[0m\n\u001b[1;32m----> 1\u001b[0m \u001b[43mn\u001b[49m\u001b[43m[\u001b[49m\u001b[38;5;241;43m-\u001b[39;49m\u001b[38;5;241;43m1\u001b[39;49m\u001b[43m]\u001b[49m\n",
      "File \u001b[1;32m~\\AppData\\Roaming\\Python\\Python39\\site-packages\\pandas\\core\\series.py:981\u001b[0m, in \u001b[0;36mSeries.__getitem__\u001b[1;34m(self, key)\u001b[0m\n\u001b[0;32m    978\u001b[0m     \u001b[38;5;28;01mreturn\u001b[39;00m \u001b[38;5;28mself\u001b[39m\u001b[38;5;241m.\u001b[39m_values[key]\n\u001b[0;32m    980\u001b[0m \u001b[38;5;28;01melif\u001b[39;00m key_is_scalar:\n\u001b[1;32m--> 981\u001b[0m     \u001b[38;5;28;01mreturn\u001b[39;00m \u001b[38;5;28;43mself\u001b[39;49m\u001b[38;5;241;43m.\u001b[39;49m\u001b[43m_get_value\u001b[49m\u001b[43m(\u001b[49m\u001b[43mkey\u001b[49m\u001b[43m)\u001b[49m\n\u001b[0;32m    983\u001b[0m \u001b[38;5;28;01mif\u001b[39;00m is_hashable(key):\n\u001b[0;32m    984\u001b[0m     \u001b[38;5;66;03m# Otherwise index.get_value will raise InvalidIndexError\u001b[39;00m\n\u001b[0;32m    985\u001b[0m     \u001b[38;5;28;01mtry\u001b[39;00m:\n\u001b[0;32m    986\u001b[0m         \u001b[38;5;66;03m# For labels that don't resolve as scalars like tuples and frozensets\u001b[39;00m\n",
      "File \u001b[1;32m~\\AppData\\Roaming\\Python\\Python39\\site-packages\\pandas\\core\\series.py:1089\u001b[0m, in \u001b[0;36mSeries._get_value\u001b[1;34m(self, label, takeable)\u001b[0m\n\u001b[0;32m   1086\u001b[0m     \u001b[38;5;28;01mreturn\u001b[39;00m \u001b[38;5;28mself\u001b[39m\u001b[38;5;241m.\u001b[39m_values[label]\n\u001b[0;32m   1088\u001b[0m \u001b[38;5;66;03m# Similar to Index.get_value, but we do not fall back to positional\u001b[39;00m\n\u001b[1;32m-> 1089\u001b[0m loc \u001b[38;5;241m=\u001b[39m \u001b[38;5;28;43mself\u001b[39;49m\u001b[38;5;241;43m.\u001b[39;49m\u001b[43mindex\u001b[49m\u001b[38;5;241;43m.\u001b[39;49m\u001b[43mget_loc\u001b[49m\u001b[43m(\u001b[49m\u001b[43mlabel\u001b[49m\u001b[43m)\u001b[49m\n\u001b[0;32m   1090\u001b[0m \u001b[38;5;28;01mreturn\u001b[39;00m \u001b[38;5;28mself\u001b[39m\u001b[38;5;241m.\u001b[39mindex\u001b[38;5;241m.\u001b[39m_get_values_for_loc(\u001b[38;5;28mself\u001b[39m, loc, label)\n",
      "File \u001b[1;32m~\\AppData\\Roaming\\Python\\Python39\\site-packages\\pandas\\core\\indexes\\range.py:393\u001b[0m, in \u001b[0;36mRangeIndex.get_loc\u001b[1;34m(self, key, method, tolerance)\u001b[0m\n\u001b[0;32m    391\u001b[0m         \u001b[38;5;28;01mreturn\u001b[39;00m \u001b[38;5;28mself\u001b[39m\u001b[38;5;241m.\u001b[39m_range\u001b[38;5;241m.\u001b[39mindex(new_key)\n\u001b[0;32m    392\u001b[0m     \u001b[38;5;28;01mexcept\u001b[39;00m \u001b[38;5;167;01mValueError\u001b[39;00m \u001b[38;5;28;01mas\u001b[39;00m err:\n\u001b[1;32m--> 393\u001b[0m         \u001b[38;5;28;01mraise\u001b[39;00m \u001b[38;5;167;01mKeyError\u001b[39;00m(key) \u001b[38;5;28;01mfrom\u001b[39;00m \u001b[38;5;21;01merr\u001b[39;00m\n\u001b[0;32m    394\u001b[0m \u001b[38;5;28mself\u001b[39m\u001b[38;5;241m.\u001b[39m_check_indexing_error(key)\n\u001b[0;32m    395\u001b[0m \u001b[38;5;28;01mraise\u001b[39;00m \u001b[38;5;167;01mKeyError\u001b[39;00m(key)\n",
      "\u001b[1;31mKeyError\u001b[0m: -1"
     ]
    }
   ],
   "source": [
    "n[-1] # -ve indexing is not allowed"
   ]
  },
  {
   "cell_type": "code",
   "execution_count": 15,
   "id": "e3bdb355",
   "metadata": {},
   "outputs": [
    {
     "data": {
      "text/plain": [
       "0    Avinash\n",
       "1    Harshal\n",
       "2     Sakshi\n",
       "3       Amit\n",
       "4        Ram\n",
       "dtype: object"
      ]
     },
     "execution_count": 15,
     "metadata": {},
     "output_type": "execute_result"
    }
   ],
   "source": [
    "n"
   ]
  },
  {
   "cell_type": "code",
   "execution_count": 16,
   "id": "fe022c0c",
   "metadata": {},
   "outputs": [
    {
     "data": {
      "text/plain": [
       "4        Ram\n",
       "3       Amit\n",
       "2     Sakshi\n",
       "1    Harshal\n",
       "0    Avinash\n",
       "dtype: object"
      ]
     },
     "execution_count": 16,
     "metadata": {},
     "output_type": "execute_result"
    }
   ],
   "source": [
    "n[::-1] # -ve steping is allowed "
   ]
  },
  {
   "cell_type": "code",
   "execution_count": 17,
   "id": "5eefe7df",
   "metadata": {},
   "outputs": [
    {
     "data": {
      "text/plain": [
       "2114745694432"
      ]
     },
     "execution_count": 17,
     "metadata": {},
     "output_type": "execute_result"
    }
   ],
   "source": [
    "id(n)"
   ]
  },
  {
   "cell_type": "code",
   "execution_count": 18,
   "id": "efeb69f0",
   "metadata": {},
   "outputs": [],
   "source": [
    "# can modification possible????\n",
    "n[0] = 'Ameya'"
   ]
  },
  {
   "cell_type": "code",
   "execution_count": 19,
   "id": "0930b2be",
   "metadata": {},
   "outputs": [
    {
     "data": {
      "text/plain": [
       "0      Ameya\n",
       "1    Harshal\n",
       "2     Sakshi\n",
       "3       Amit\n",
       "4        Ram\n",
       "dtype: object"
      ]
     },
     "execution_count": 19,
     "metadata": {},
     "output_type": "execute_result"
    }
   ],
   "source": [
    "n"
   ]
  },
  {
   "cell_type": "code",
   "execution_count": 20,
   "id": "371a659c",
   "metadata": {},
   "outputs": [
    {
     "data": {
      "text/plain": [
       "2114745694432"
      ]
     },
     "execution_count": 20,
     "metadata": {},
     "output_type": "execute_result"
    }
   ],
   "source": [
    "id(n)\n",
    "# id is not changing hence its mutable in nature\n"
   ]
  },
  {
   "cell_type": "code",
   "execution_count": 21,
   "id": "b410e844",
   "metadata": {},
   "outputs": [
    {
     "data": {
      "text/plain": [
       "0      Ameya\n",
       "1    Harshal\n",
       "2     Sakshi\n",
       "3       Amit\n",
       "4        Ram\n",
       "dtype: object"
      ]
     },
     "execution_count": 21,
     "metadata": {},
     "output_type": "execute_result"
    }
   ],
   "source": [
    "n"
   ]
  },
  {
   "cell_type": "markdown",
   "id": "c0245d3a",
   "metadata": {},
   "source": [
    "Conver all names to upper case\n"
   ]
  },
  {
   "cell_type": "code",
   "execution_count": 23,
   "id": "5a1f0325",
   "metadata": {},
   "outputs": [
    {
     "data": {
      "text/plain": [
       "0      AMEYA\n",
       "1    HARSHAL\n",
       "2     SAKSHI\n",
       "3       AMIT\n",
       "4        RAM\n",
       "dtype: object"
      ]
     },
     "execution_count": 23,
     "metadata": {},
     "output_type": "execute_result"
    }
   ],
   "source": [
    "n.str.upper()"
   ]
  },
  {
   "cell_type": "markdown",
   "id": "e8f12634",
   "metadata": {},
   "source": [
    "Fetch candidate who names start with A "
   ]
  },
  {
   "cell_type": "code",
   "execution_count": 33,
   "id": "ea8dc66d",
   "metadata": {},
   "outputs": [
    {
     "data": {
      "text/plain": [
       "0     True\n",
       "1    False\n",
       "2    False\n",
       "3     True\n",
       "4    False\n",
       "dtype: bool"
      ]
     },
     "execution_count": 33,
     "metadata": {},
     "output_type": "execute_result"
    }
   ],
   "source": [
    "n.str.startswith('A')"
   ]
  },
  {
   "cell_type": "code",
   "execution_count": 34,
   "id": "49a80072",
   "metadata": {},
   "outputs": [
    {
     "data": {
      "text/plain": [
       "0    Ameya\n",
       "3     Amit\n",
       "dtype: object"
      ]
     },
     "execution_count": 34,
     "metadata": {},
     "output_type": "execute_result"
    }
   ],
   "source": [
    "n[n.str.startswith('A')]"
   ]
  },
  {
   "cell_type": "code",
   "execution_count": 32,
   "id": "38c78c24",
   "metadata": {},
   "outputs": [
    {
     "data": {
      "text/plain": [
       "'A'"
      ]
     },
     "execution_count": 32,
     "metadata": {},
     "output_type": "execute_result"
    }
   ],
   "source": []
  },
  {
   "cell_type": "code",
   "execution_count": null,
   "id": "58635d84",
   "metadata": {},
   "outputs": [],
   "source": []
  }
 ],
 "metadata": {
  "kernelspec": {
   "display_name": "Python 3 (ipykernel)",
   "language": "python",
   "name": "python3"
  },
  "language_info": {
   "codemirror_mode": {
    "name": "ipython",
    "version": 3
   },
   "file_extension": ".py",
   "mimetype": "text/x-python",
   "name": "python",
   "nbconvert_exporter": "python",
   "pygments_lexer": "ipython3",
   "version": "3.9.12"
  }
 },
 "nbformat": 4,
 "nbformat_minor": 5
}
