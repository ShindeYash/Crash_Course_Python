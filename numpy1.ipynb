{
 "cells": [
  {
   "cell_type": "markdown",
   "id": "882f5e12",
   "metadata": {},
   "source": [
    "Numpy is the fundamental package for scientific computing in python\n",
    "Its provide multidimensional array object\n",
    "Numpy arrays have a fixed size at creation\n",
    "Its provide efficient storage\n",
    "It is also provide better ways of handling data for processing\n",
    "It is fast \n",
    "It is easy to learn\n",
    "Numpy uses relatively less memory to store data.\n"
   ]
  },
  {
   "cell_type": "code",
   "execution_count": 2,
   "id": "36021c5b",
   "metadata": {},
   "outputs": [],
   "source": [
    "#import numpy\n",
    "import numpy \n"
   ]
  },
  {
   "cell_type": "code",
   "execution_count": 4,
   "id": "a39a3ba6",
   "metadata": {},
   "outputs": [
    {
     "data": {
      "text/plain": [
       "'1.21.5'"
      ]
     },
     "execution_count": 4,
     "metadata": {},
     "output_type": "execute_result"
    }
   ],
   "source": [
    "# check the version of numpy\n",
    "numpy.__version__"
   ]
  },
  {
   "cell_type": "code",
   "execution_count": 5,
   "id": "e7a9d067",
   "metadata": {},
   "outputs": [
    {
     "data": {
      "text/plain": [
       "array([1, 2, 3])"
      ]
     },
     "execution_count": 5,
     "metadata": {},
     "output_type": "execute_result"
    }
   ],
   "source": [
    "# lets create a numpy array\n",
    "numpy.array([1,2,3])"
   ]
  },
  {
   "cell_type": "code",
   "execution_count": 7,
   "id": "ac761e92",
   "metadata": {},
   "outputs": [
    {
     "data": {
      "text/plain": [
       "array([10, 20, 30])"
      ]
     },
     "execution_count": 7,
     "metadata": {},
     "output_type": "execute_result"
    }
   ],
   "source": [
    "# make it simple: use module aliasing\n",
    "import numpy as np\n",
    "a = np.array([10,20,30])\n",
    "a"
   ]
  },
  {
   "cell_type": "code",
   "execution_count": 8,
   "id": "ab3c55ef",
   "metadata": {},
   "outputs": [
    {
     "data": {
      "text/plain": [
       "[10, 20, 30]"
      ]
     },
     "execution_count": 8,
     "metadata": {},
     "output_type": "execute_result"
    }
   ],
   "source": [
    "l = [10,20,30]\n",
    "l"
   ]
  },
  {
   "cell_type": "code",
   "execution_count": 9,
   "id": "5c3a891a",
   "metadata": {},
   "outputs": [
    {
     "data": {
      "text/plain": [
       "[10, 20, 30, 10, 20, 30, 10, 20, 30]"
      ]
     },
     "execution_count": 9,
     "metadata": {},
     "output_type": "execute_result"
    }
   ],
   "source": [
    "l*3    # l is list: it will perform repettion"
   ]
  },
  {
   "cell_type": "code",
   "execution_count": 10,
   "id": "3acfda51",
   "metadata": {},
   "outputs": [
    {
     "data": {
      "text/plain": [
       "array([30, 60, 90])"
      ]
     },
     "execution_count": 10,
     "metadata": {},
     "output_type": "execute_result"
    }
   ],
   "source": [
    "a*3      # a is numpy array:  it will perform elementwise multiplication"
   ]
  },
  {
   "cell_type": "code",
   "execution_count": 11,
   "id": "dc9d2545",
   "metadata": {},
   "outputs": [
    {
     "data": {
      "text/plain": [
       "array([10, 20, 30])"
      ]
     },
     "execution_count": 11,
     "metadata": {},
     "output_type": "execute_result"
    }
   ],
   "source": [
    "a"
   ]
  },
  {
   "cell_type": "code",
   "execution_count": 12,
   "id": "307d5072",
   "metadata": {},
   "outputs": [
    {
     "data": {
      "text/plain": [
       "[10, 20, 30]"
      ]
     },
     "execution_count": 12,
     "metadata": {},
     "output_type": "execute_result"
    }
   ],
   "source": [
    "l"
   ]
  },
  {
   "cell_type": "code",
   "execution_count": 13,
   "id": "63e2235b",
   "metadata": {},
   "outputs": [
    {
     "name": "stdout",
     "output_type": "stream",
     "text": [
      "Array size: 116\n",
      "List size: 104\n"
     ]
    }
   ],
   "source": [
    "# check size of l and a\n",
    "print('Array size:', a.__sizeof__())\n",
    "print('List size:', l.__sizeof__())"
   ]
  },
  {
   "cell_type": "code",
   "execution_count": 14,
   "id": "debf9f3e",
   "metadata": {},
   "outputs": [
    {
     "data": {
      "text/plain": [
       "[10, 20, 30, 10, 20, 30, 10, 20, 30, 10, 20, 30, 10, 20, 30, 10, 20, 30]"
      ]
     },
     "execution_count": 14,
     "metadata": {},
     "output_type": "execute_result"
    }
   ],
   "source": [
    "l*3*2"
   ]
  },
  {
   "cell_type": "code",
   "execution_count": 15,
   "id": "3895c005",
   "metadata": {},
   "outputs": [
    {
     "data": {
      "text/plain": [
       "array([ 60, 120, 180])"
      ]
     },
     "execution_count": 15,
     "metadata": {},
     "output_type": "execute_result"
    }
   ],
   "source": [
    "a*3*2"
   ]
  },
  {
   "cell_type": "code",
   "execution_count": 18,
   "id": "763577a7",
   "metadata": {},
   "outputs": [
    {
     "name": "stdout",
     "output_type": "stream",
     "text": [
      "[1000 2000 3000]\n",
      "[1000 2000 3000]\n",
      "[1000 2000 3000]\n",
      "[1000 2000 3000]\n",
      "[1000 2000 3000]\n",
      "[1000 2000 3000]\n",
      "[1000 2000 3000]\n",
      "[1000 2000 3000]\n",
      "[1000 2000 3000]\n",
      "[1000 2000 3000]\n",
      "[1000 2000 3000]\n",
      "[1000 2000 3000]\n",
      "[1000 2000 3000]\n",
      "[1000 2000 3000]\n",
      "[1000 2000 3000]\n",
      "[1000 2000 3000]\n",
      "[1000 2000 3000]\n",
      "[1000 2000 3000]\n",
      "[1000 2000 3000]\n",
      "[1000 2000 3000]\n",
      "[1000 2000 3000]\n",
      "[1000 2000 3000]\n",
      "[1000 2000 3000]\n",
      "[1000 2000 3000]\n",
      "[1000 2000 3000]\n",
      "[1000 2000 3000]\n",
      "[1000 2000 3000]\n",
      "[1000 2000 3000]\n",
      "[1000 2000 3000]\n",
      "[1000 2000 3000]\n",
      "[1000 2000 3000]\n",
      "[1000 2000 3000]\n",
      "[1000 2000 3000]\n",
      "[1000 2000 3000]\n",
      "[1000 2000 3000]\n",
      "[1000 2000 3000]\n",
      "[1000 2000 3000]\n",
      "[1000 2000 3000]\n",
      "[1000 2000 3000]\n",
      "[1000 2000 3000]\n",
      "[1000 2000 3000]\n",
      "[1000 2000 3000]\n",
      "[1000 2000 3000]\n",
      "[1000 2000 3000]\n",
      "[1000 2000 3000]\n",
      "[1000 2000 3000]\n",
      "[1000 2000 3000]\n",
      "[1000 2000 3000]\n",
      "[1000 2000 3000]\n",
      "[1000 2000 3000]\n",
      "[1000 2000 3000]\n",
      "[1000 2000 3000]\n",
      "[1000 2000 3000]\n",
      "[1000 2000 3000]\n",
      "[1000 2000 3000]\n",
      "[1000 2000 3000]\n",
      "[1000 2000 3000]\n",
      "[1000 2000 3000]\n",
      "[1000 2000 3000]\n",
      "[1000 2000 3000]\n",
      "[1000 2000 3000]\n",
      "[1000 2000 3000]\n",
      "[1000 2000 3000]\n",
      "[1000 2000 3000]\n",
      "[1000 2000 3000]\n",
      "[1000 2000 3000]\n",
      "[1000 2000 3000]\n",
      "[1000 2000 3000]\n",
      "[1000 2000 3000]\n",
      "[1000 2000 3000]\n",
      "[1000 2000 3000]\n",
      "[1000 2000 3000]\n",
      "[1000 2000 3000]\n",
      "[1000 2000 3000]\n",
      "[1000 2000 3000]\n",
      "[1000 2000 3000]\n",
      "[1000 2000 3000]\n",
      "[1000 2000 3000]\n",
      "[1000 2000 3000]\n",
      "[1000 2000 3000]\n",
      "[1000 2000 3000]\n",
      "[1000 2000 3000]\n",
      "[1000 2000 3000]\n",
      "[1000 2000 3000]\n",
      "[1000 2000 3000]\n",
      "[1000 2000 3000]\n",
      "[1000 2000 3000]\n",
      "[1000 2000 3000]\n",
      "[1000 2000 3000]\n",
      "[1000 2000 3000]\n",
      "[1000 2000 3000]\n",
      "[1000 2000 3000]\n",
      "[1000 2000 3000]\n",
      "[1000 2000 3000]\n",
      "[1000 2000 3000]\n",
      "[1000 2000 3000]\n",
      "[1000 2000 3000]\n",
      "[1000 2000 3000]\n",
      "[1000 2000 3000]\n",
      "[1000 2000 3000]\n"
     ]
    }
   ],
   "source": [
    "for i in range(100):\n",
    "    print(a*100)"
   ]
  },
  {
   "cell_type": "code",
   "execution_count": 20,
   "id": "33b0df98",
   "metadata": {},
   "outputs": [
    {
     "name": "stdout",
     "output_type": "stream",
     "text": [
      "[10, 20, 30]\n",
      "[10, 20, 30]\n",
      "[10, 20, 30]\n",
      "[10, 20, 30]\n",
      "[10, 20, 30]\n",
      "[10, 20, 30]\n",
      "[10, 20, 30]\n",
      "[10, 20, 30]\n",
      "[10, 20, 30]\n",
      "[10, 20, 30]\n",
      "[10, 20, 30]\n",
      "[10, 20, 30]\n",
      "[10, 20, 30]\n",
      "[10, 20, 30]\n",
      "[10, 20, 30]\n",
      "[10, 20, 30]\n",
      "[10, 20, 30]\n",
      "[10, 20, 30]\n",
      "[10, 20, 30]\n",
      "[10, 20, 30]\n",
      "[10, 20, 30]\n",
      "[10, 20, 30]\n",
      "[10, 20, 30]\n",
      "[10, 20, 30]\n",
      "[10, 20, 30]\n",
      "[10, 20, 30]\n",
      "[10, 20, 30]\n",
      "[10, 20, 30]\n",
      "[10, 20, 30]\n",
      "[10, 20, 30]\n",
      "[10, 20, 30]\n",
      "[10, 20, 30]\n",
      "[10, 20, 30]\n",
      "[10, 20, 30]\n",
      "[10, 20, 30]\n",
      "[10, 20, 30]\n",
      "[10, 20, 30]\n",
      "[10, 20, 30]\n",
      "[10, 20, 30]\n",
      "[10, 20, 30]\n",
      "[10, 20, 30]\n",
      "[10, 20, 30]\n",
      "[10, 20, 30]\n",
      "[10, 20, 30]\n",
      "[10, 20, 30]\n",
      "[10, 20, 30]\n",
      "[10, 20, 30]\n",
      "[10, 20, 30]\n",
      "[10, 20, 30]\n",
      "[10, 20, 30]\n",
      "[10, 20, 30]\n",
      "[10, 20, 30]\n",
      "[10, 20, 30]\n",
      "[10, 20, 30]\n",
      "[10, 20, 30]\n",
      "[10, 20, 30]\n",
      "[10, 20, 30]\n",
      "[10, 20, 30]\n",
      "[10, 20, 30]\n",
      "[10, 20, 30]\n",
      "[10, 20, 30]\n",
      "[10, 20, 30]\n",
      "[10, 20, 30]\n",
      "[10, 20, 30]\n",
      "[10, 20, 30]\n",
      "[10, 20, 30]\n",
      "[10, 20, 30]\n",
      "[10, 20, 30]\n",
      "[10, 20, 30]\n",
      "[10, 20, 30]\n",
      "[10, 20, 30]\n",
      "[10, 20, 30]\n",
      "[10, 20, 30]\n",
      "[10, 20, 30]\n",
      "[10, 20, 30]\n",
      "[10, 20, 30]\n",
      "[10, 20, 30]\n",
      "[10, 20, 30]\n",
      "[10, 20, 30]\n",
      "[10, 20, 30]\n",
      "[10, 20, 30]\n",
      "[10, 20, 30]\n",
      "[10, 20, 30]\n",
      "[10, 20, 30]\n",
      "[10, 20, 30]\n",
      "[10, 20, 30]\n",
      "[10, 20, 30]\n",
      "[10, 20, 30]\n",
      "[10, 20, 30]\n",
      "[10, 20, 30]\n",
      "[10, 20, 30]\n",
      "[10, 20, 30]\n",
      "[10, 20, 30]\n",
      "[10, 20, 30]\n",
      "[10, 20, 30]\n",
      "[10, 20, 30]\n",
      "[10, 20, 30]\n",
      "[10, 20, 30]\n",
      "[10, 20, 30]\n",
      "[10, 20, 30]\n"
     ]
    }
   ],
   "source": [
    "for i in range(100):\n",
    "    print(l)"
   ]
  },
  {
   "cell_type": "code",
   "execution_count": 21,
   "id": "55a5bbde",
   "metadata": {},
   "outputs": [
    {
     "data": {
      "text/plain": [
       "dtype('int32')"
      ]
     },
     "execution_count": 21,
     "metadata": {},
     "output_type": "execute_result"
    }
   ],
   "source": [
    "a.dtype"
   ]
  },
  {
   "cell_type": "code",
   "execution_count": 22,
   "id": "03cc5dd3",
   "metadata": {},
   "outputs": [],
   "source": [
    "# we can assign 8 bit, 32 bit, 64 bit dtype\n",
    "myarr = np.array([1,2,3,32,64],np.int8)"
   ]
  },
  {
   "cell_type": "code",
   "execution_count": 23,
   "id": "b0656c5d",
   "metadata": {},
   "outputs": [
    {
     "data": {
      "text/plain": [
       "array([ 1,  2,  3, 32, 64], dtype=int8)"
      ]
     },
     "execution_count": 23,
     "metadata": {},
     "output_type": "execute_result"
    }
   ],
   "source": [
    "myarr"
   ]
  },
  {
   "cell_type": "code",
   "execution_count": 25,
   "id": "b92c11e3",
   "metadata": {},
   "outputs": [
    {
     "data": {
      "text/plain": [
       "array([  1,   2,  32,  45, 107], dtype=int8)"
      ]
     },
     "execution_count": 25,
     "metadata": {},
     "output_type": "execute_result"
    }
   ],
   "source": [
    "myarr1 = np.array([1,2,32,45,3777899],np.int8)\n",
    "myarr1"
   ]
  },
  {
   "cell_type": "code",
   "execution_count": 26,
   "id": "3248bcff",
   "metadata": {},
   "outputs": [
    {
     "data": {
      "text/plain": [
       "array([ 1,  2,  3, 32, 64], dtype=int8)"
      ]
     },
     "execution_count": 26,
     "metadata": {},
     "output_type": "execute_result"
    }
   ],
   "source": [
    "# suppose we are using int8 then will take care of in list number is not bigger than int8\n",
    "myarr"
   ]
  },
  {
   "cell_type": "code",
   "execution_count": 27,
   "id": "8b47c778",
   "metadata": {},
   "outputs": [
    {
     "data": {
      "text/plain": [
       "32"
      ]
     },
     "execution_count": 27,
     "metadata": {},
     "output_type": "execute_result"
    }
   ],
   "source": [
    "myarr[3]  # to access element in this array"
   ]
  },
  {
   "cell_type": "code",
   "execution_count": 28,
   "id": "223f5dcc",
   "metadata": {},
   "outputs": [],
   "source": [
    "# create 1D array\n",
    "a = np.array([11,22,33,44])"
   ]
  },
  {
   "cell_type": "code",
   "execution_count": 29,
   "id": "c665ad5b",
   "metadata": {},
   "outputs": [
    {
     "data": {
      "text/plain": [
       "array([11, 22, 33, 44])"
      ]
     },
     "execution_count": 29,
     "metadata": {},
     "output_type": "execute_result"
    }
   ],
   "source": [
    "a"
   ]
  },
  {
   "cell_type": "code",
   "execution_count": 30,
   "id": "060f6b45",
   "metadata": {},
   "outputs": [
    {
     "data": {
      "text/plain": [
       "1"
      ]
     },
     "execution_count": 30,
     "metadata": {},
     "output_type": "execute_result"
    }
   ],
   "source": [
    "a.ndim"
   ]
  },
  {
   "cell_type": "code",
   "execution_count": 31,
   "id": "cba4c4cb",
   "metadata": {},
   "outputs": [
    {
     "data": {
      "text/plain": [
       "array([[1, 2],\n",
       "       [3, 4],\n",
       "       [5, 6]])"
      ]
     },
     "execution_count": 31,
     "metadata": {},
     "output_type": "execute_result"
    }
   ],
   "source": [
    "# Create 2D array\n",
    "a2 = np.array([[1,2],[3,4],[5,6]])\n",
    "a2"
   ]
  },
  {
   "cell_type": "code",
   "execution_count": 32,
   "id": "0c166104",
   "metadata": {},
   "outputs": [
    {
     "data": {
      "text/plain": [
       "2"
      ]
     },
     "execution_count": 32,
     "metadata": {},
     "output_type": "execute_result"
    }
   ],
   "source": [
    "a2.ndim"
   ]
  },
  {
   "cell_type": "code",
   "execution_count": 33,
   "id": "cbb725e7",
   "metadata": {},
   "outputs": [
    {
     "data": {
      "text/plain": [
       "(3, 2)"
      ]
     },
     "execution_count": 33,
     "metadata": {},
     "output_type": "execute_result"
    }
   ],
   "source": [
    "a2.shape"
   ]
  },
  {
   "cell_type": "code",
   "execution_count": 42,
   "id": "bc672053",
   "metadata": {},
   "outputs": [
    {
     "data": {
      "text/plain": [
       "array([[[   1,    2,  100],\n",
       "        [   3,    4,  100],\n",
       "        [  11,   12,  111],\n",
       "        [ 100,  200,  101]],\n",
       "\n",
       "       [[   5,    6, 1112],\n",
       "        [   7,    8, 1234],\n",
       "        [  33,   44, 2233],\n",
       "        [ 111,  222,   44]]])"
      ]
     },
     "execution_count": 42,
     "metadata": {},
     "output_type": "execute_result"
    }
   ],
   "source": [
    "# Create 3D array: is made up of 2D array\n",
    "a3 = np.array([[[1,2,100],[3,4,100],[11,12,111],[100,200,101]],[[5,6,1112],[7,8,1234],[33,44,2233],[111,222,44]]])\n",
    "a3"
   ]
  },
  {
   "cell_type": "code",
   "execution_count": 43,
   "id": "009c4df1",
   "metadata": {},
   "outputs": [
    {
     "data": {
      "text/plain": [
       "3"
      ]
     },
     "execution_count": 43,
     "metadata": {},
     "output_type": "execute_result"
    }
   ],
   "source": [
    "a3.ndim"
   ]
  },
  {
   "cell_type": "code",
   "execution_count": 44,
   "id": "b9aa958a",
   "metadata": {},
   "outputs": [
    {
     "data": {
      "text/plain": [
       "(2, 4, 3)"
      ]
     },
     "execution_count": 44,
     "metadata": {},
     "output_type": "execute_result"
    }
   ],
   "source": [
    "a3.shape"
   ]
  },
  {
   "cell_type": "code",
   "execution_count": 45,
   "id": "67af2ad7",
   "metadata": {},
   "outputs": [
    {
     "data": {
      "text/plain": [
       "numpy.ndarray"
      ]
     },
     "execution_count": 45,
     "metadata": {},
     "output_type": "execute_result"
    }
   ],
   "source": [
    "type(a3)"
   ]
  },
  {
   "cell_type": "code",
   "execution_count": 47,
   "id": "caae612e",
   "metadata": {},
   "outputs": [],
   "source": [
    "a4 = np.array([1,2,3,'abc'])\n",
    "# if we give str or hetro data then its data type is unicode"
   ]
  },
  {
   "cell_type": "code",
   "execution_count": 48,
   "id": "e32b604f",
   "metadata": {},
   "outputs": [
    {
     "data": {
      "text/plain": [
       "array(['1', '2', '3', 'abc'], dtype='<U11')"
      ]
     },
     "execution_count": 48,
     "metadata": {},
     "output_type": "execute_result"
    }
   ],
   "source": [
    "a4"
   ]
  },
  {
   "cell_type": "code",
   "execution_count": 49,
   "id": "68427a26",
   "metadata": {},
   "outputs": [
    {
     "data": {
      "text/plain": [
       "dtype('<U11')"
      ]
     },
     "execution_count": 49,
     "metadata": {},
     "output_type": "execute_result"
    }
   ],
   "source": [
    "a4.dtype"
   ]
  },
  {
   "cell_type": "code",
   "execution_count": 50,
   "id": "eb4fbc44",
   "metadata": {},
   "outputs": [],
   "source": [
    "# Features of Numpy\n",
    "# 1. Sequence order is preserved\n",
    "# 2. indexing supported\n",
    "# 3. slicing is supported\n",
    "# 4. homo., hetro. value accepted"
   ]
  },
  {
   "cell_type": "code",
   "execution_count": 53,
   "id": "03eee7f3",
   "metadata": {},
   "outputs": [
    {
     "data": {
      "text/plain": [
       "array([0, 1, 2, 3, 4])"
      ]
     },
     "execution_count": 53,
     "metadata": {},
     "output_type": "execute_result"
    }
   ],
   "source": [
    "# other options for creating a numpy array\n",
    "# arange of numpy is same as that of range in python\n",
    "np.arange(5)"
   ]
  },
  {
   "cell_type": "code",
   "execution_count": 54,
   "id": "8f4d3c31",
   "metadata": {},
   "outputs": [
    {
     "data": {
      "text/plain": [
       "array([101, 102, 103, 104, 105, 106, 107, 108, 109, 110])"
      ]
     },
     "execution_count": 54,
     "metadata": {},
     "output_type": "execute_result"
    }
   ],
   "source": [
    "np.arange(101,111)"
   ]
  },
  {
   "cell_type": "code",
   "execution_count": 57,
   "id": "3b1ce801",
   "metadata": {},
   "outputs": [
    {
     "data": {
      "text/plain": [
       "array([100,  99,  98,  97,  96,  95,  94,  93,  92,  91,  90,  89,  88,\n",
       "        87,  86,  85,  84,  83,  82,  81,  80,  79,  78,  77,  76,  75,\n",
       "        74,  73,  72,  71,  70,  69,  68,  67,  66,  65,  64,  63,  62,\n",
       "        61,  60,  59,  58,  57,  56,  55,  54,  53,  52,  51,  50,  49,\n",
       "        48,  47,  46,  45,  44,  43,  42,  41,  40,  39,  38,  37,  36,\n",
       "        35,  34,  33,  32,  31,  30,  29,  28,  27,  26,  25,  24,  23,\n",
       "        22,  21,  20,  19,  18,  17,  16,  15,  14,  13,  12,  11,  10,\n",
       "         9,   8,   7,   6,   5,   4,   3,   2,   1])"
      ]
     },
     "execution_count": 57,
     "metadata": {},
     "output_type": "execute_result"
    }
   ],
   "source": [
    "np.arange(100,0,-1)"
   ]
  },
  {
   "cell_type": "code",
   "execution_count": 58,
   "id": "e4d639c7",
   "metadata": {},
   "outputs": [
    {
     "data": {
      "text/plain": [
       "array([ 1,  3,  5,  7,  9, 11, 13, 15, 17, 19, 21, 23, 25, 27, 29, 31, 33,\n",
       "       35, 37, 39, 41, 43, 45, 47, 49, 51, 53, 55, 57, 59, 61, 63, 65, 67,\n",
       "       69, 71, 73, 75, 77, 79, 81, 83, 85, 87, 89, 91, 93, 95, 97, 99])"
      ]
     },
     "execution_count": 58,
     "metadata": {},
     "output_type": "execute_result"
    }
   ],
   "source": [
    "# odd numbers\n",
    "np.arange(1,101,2)"
   ]
  },
  {
   "cell_type": "code",
   "execution_count": 61,
   "id": "912d9c76",
   "metadata": {},
   "outputs": [
    {
     "data": {
      "text/plain": [
       "array([1, 1, 1, 1, 1, 1, 1, 1, 1, 1])"
      ]
     },
     "execution_count": 61,
     "metadata": {},
     "output_type": "execute_result"
    }
   ],
   "source": [
    "# Create an array with all ones\n",
    "np.ones(10,dtype=int)"
   ]
  },
  {
   "cell_type": "code",
   "execution_count": 63,
   "id": "17454646",
   "metadata": {},
   "outputs": [
    {
     "data": {
      "text/plain": [
       "1"
      ]
     },
     "execution_count": 63,
     "metadata": {},
     "output_type": "execute_result"
    }
   ],
   "source": [
    "np.ones(10).ndim"
   ]
  },
  {
   "cell_type": "code",
   "execution_count": 66,
   "id": "69bba325",
   "metadata": {},
   "outputs": [
    {
     "data": {
      "text/plain": [
       "array([[1., 1., 1., 1., 1.],\n",
       "       [1., 1., 1., 1., 1.],\n",
       "       [1., 1., 1., 1., 1.],\n",
       "       [1., 1., 1., 1., 1.],\n",
       "       [1., 1., 1., 1., 1.]])"
      ]
     },
     "execution_count": 66,
     "metadata": {},
     "output_type": "execute_result"
    }
   ],
   "source": [
    "np.ones((5,5))"
   ]
  },
  {
   "cell_type": "code",
   "execution_count": 67,
   "id": "99dc4343",
   "metadata": {},
   "outputs": [
    {
     "data": {
      "text/plain": [
       "2"
      ]
     },
     "execution_count": 67,
     "metadata": {},
     "output_type": "execute_result"
    }
   ],
   "source": [
    "np.ones((5,5)).ndim"
   ]
  },
  {
   "cell_type": "code",
   "execution_count": 68,
   "id": "2b070b67",
   "metadata": {},
   "outputs": [
    {
     "data": {
      "text/plain": [
       "array([[[1., 1., 1.],\n",
       "        [1., 1., 1.]],\n",
       "\n",
       "       [[1., 1., 1.],\n",
       "        [1., 1., 1.]],\n",
       "\n",
       "       [[1., 1., 1.],\n",
       "        [1., 1., 1.]]])"
      ]
     },
     "execution_count": 68,
     "metadata": {},
     "output_type": "execute_result"
    }
   ],
   "source": [
    "np.ones((3,2,3))"
   ]
  },
  {
   "cell_type": "code",
   "execution_count": 69,
   "id": "e87e9ad8",
   "metadata": {},
   "outputs": [
    {
     "data": {
      "text/plain": [
       "3"
      ]
     },
     "execution_count": 69,
     "metadata": {},
     "output_type": "execute_result"
    }
   ],
   "source": [
    "np.ones((3,2,3)).ndim"
   ]
  },
  {
   "cell_type": "code",
   "execution_count": 71,
   "id": "f88e9a2d",
   "metadata": {},
   "outputs": [
    {
     "data": {
      "text/plain": [
       "array([0, 0, 0, 0, 0, 0, 0, 0, 0, 0])"
      ]
     },
     "execution_count": 71,
     "metadata": {},
     "output_type": "execute_result"
    }
   ],
   "source": [
    "np.zeros(10,dtype=int)"
   ]
  },
  {
   "cell_type": "code",
   "execution_count": null,
   "id": "6336106a",
   "metadata": {},
   "outputs": [],
   "source": []
  }
 ],
 "metadata": {
  "kernelspec": {
   "display_name": "Python 3 (ipykernel)",
   "language": "python",
   "name": "python3"
  },
  "language_info": {
   "codemirror_mode": {
    "name": "ipython",
    "version": 3
   },
   "file_extension": ".py",
   "mimetype": "text/x-python",
   "name": "python",
   "nbconvert_exporter": "python",
   "pygments_lexer": "ipython3",
   "version": "3.9.12"
  }
 },
 "nbformat": 4,
 "nbformat_minor": 5
}
