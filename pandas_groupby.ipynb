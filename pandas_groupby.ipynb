{
 "cells": [
  {
   "cell_type": "code",
   "execution_count": 1,
   "id": "2029bbaa",
   "metadata": {},
   "outputs": [],
   "source": [
    "import numpy as np\n",
    "import pandas as pd"
   ]
  },
  {
   "cell_type": "code",
   "execution_count": 2,
   "id": "52d64742",
   "metadata": {},
   "outputs": [],
   "source": [
    "ipl_data = {'Team':['MI','DL','MI','DL','Kings','CSK','CSK','CSK','MI','RR','RR','MI'],\n",
    "           'Rank':[1,2,2,3,3,4,1,1,2,4,1,2],\n",
    "           'Year':[2014,2015,2014,2015,2016,2015,2016,2017,2016,2014,2015,2017],\n",
    "           'Points':[876,789,863,673,741,812,756,788,694,701,804,690]}\n"
   ]
  },
  {
   "cell_type": "code",
   "execution_count": 3,
   "id": "ee130f65",
   "metadata": {},
   "outputs": [
    {
     "data": {
      "text/html": [
       "<div>\n",
       "<style scoped>\n",
       "    .dataframe tbody tr th:only-of-type {\n",
       "        vertical-align: middle;\n",
       "    }\n",
       "\n",
       "    .dataframe tbody tr th {\n",
       "        vertical-align: top;\n",
       "    }\n",
       "\n",
       "    .dataframe thead th {\n",
       "        text-align: right;\n",
       "    }\n",
       "</style>\n",
       "<table border=\"1\" class=\"dataframe\">\n",
       "  <thead>\n",
       "    <tr style=\"text-align: right;\">\n",
       "      <th></th>\n",
       "      <th>Team</th>\n",
       "      <th>Rank</th>\n",
       "      <th>Year</th>\n",
       "      <th>Points</th>\n",
       "    </tr>\n",
       "  </thead>\n",
       "  <tbody>\n",
       "    <tr>\n",
       "      <th>0</th>\n",
       "      <td>MI</td>\n",
       "      <td>1</td>\n",
       "      <td>2014</td>\n",
       "      <td>876</td>\n",
       "    </tr>\n",
       "    <tr>\n",
       "      <th>1</th>\n",
       "      <td>DL</td>\n",
       "      <td>2</td>\n",
       "      <td>2015</td>\n",
       "      <td>789</td>\n",
       "    </tr>\n",
       "    <tr>\n",
       "      <th>2</th>\n",
       "      <td>MI</td>\n",
       "      <td>2</td>\n",
       "      <td>2014</td>\n",
       "      <td>863</td>\n",
       "    </tr>\n",
       "    <tr>\n",
       "      <th>3</th>\n",
       "      <td>DL</td>\n",
       "      <td>3</td>\n",
       "      <td>2015</td>\n",
       "      <td>673</td>\n",
       "    </tr>\n",
       "    <tr>\n",
       "      <th>4</th>\n",
       "      <td>Kings</td>\n",
       "      <td>3</td>\n",
       "      <td>2016</td>\n",
       "      <td>741</td>\n",
       "    </tr>\n",
       "    <tr>\n",
       "      <th>5</th>\n",
       "      <td>CSK</td>\n",
       "      <td>4</td>\n",
       "      <td>2015</td>\n",
       "      <td>812</td>\n",
       "    </tr>\n",
       "    <tr>\n",
       "      <th>6</th>\n",
       "      <td>CSK</td>\n",
       "      <td>1</td>\n",
       "      <td>2016</td>\n",
       "      <td>756</td>\n",
       "    </tr>\n",
       "    <tr>\n",
       "      <th>7</th>\n",
       "      <td>CSK</td>\n",
       "      <td>1</td>\n",
       "      <td>2017</td>\n",
       "      <td>788</td>\n",
       "    </tr>\n",
       "    <tr>\n",
       "      <th>8</th>\n",
       "      <td>MI</td>\n",
       "      <td>2</td>\n",
       "      <td>2016</td>\n",
       "      <td>694</td>\n",
       "    </tr>\n",
       "    <tr>\n",
       "      <th>9</th>\n",
       "      <td>RR</td>\n",
       "      <td>4</td>\n",
       "      <td>2014</td>\n",
       "      <td>701</td>\n",
       "    </tr>\n",
       "    <tr>\n",
       "      <th>10</th>\n",
       "      <td>RR</td>\n",
       "      <td>1</td>\n",
       "      <td>2015</td>\n",
       "      <td>804</td>\n",
       "    </tr>\n",
       "    <tr>\n",
       "      <th>11</th>\n",
       "      <td>MI</td>\n",
       "      <td>2</td>\n",
       "      <td>2017</td>\n",
       "      <td>690</td>\n",
       "    </tr>\n",
       "  </tbody>\n",
       "</table>\n",
       "</div>"
      ],
      "text/plain": [
       "     Team  Rank  Year  Points\n",
       "0      MI     1  2014     876\n",
       "1      DL     2  2015     789\n",
       "2      MI     2  2014     863\n",
       "3      DL     3  2015     673\n",
       "4   Kings     3  2016     741\n",
       "5     CSK     4  2015     812\n",
       "6     CSK     1  2016     756\n",
       "7     CSK     1  2017     788\n",
       "8      MI     2  2016     694\n",
       "9      RR     4  2014     701\n",
       "10     RR     1  2015     804\n",
       "11     MI     2  2017     690"
      ]
     },
     "execution_count": 3,
     "metadata": {},
     "output_type": "execute_result"
    }
   ],
   "source": [
    "df = pd.DataFrame(ipl_data)\n",
    "df"
   ]
  },
  {
   "cell_type": "code",
   "execution_count": 4,
   "id": "5d96ae22",
   "metadata": {},
   "outputs": [
    {
     "data": {
      "text/plain": [
       "[('CSK',\n",
       "    Team  Rank  Year  Points\n",
       "  5  CSK     4  2015     812\n",
       "  6  CSK     1  2016     756\n",
       "  7  CSK     1  2017     788),\n",
       " ('DL',\n",
       "    Team  Rank  Year  Points\n",
       "  1   DL     2  2015     789\n",
       "  3   DL     3  2015     673),\n",
       " ('Kings',\n",
       "      Team  Rank  Year  Points\n",
       "  4  Kings     3  2016     741),\n",
       " ('MI',\n",
       "     Team  Rank  Year  Points\n",
       "  0    MI     1  2014     876\n",
       "  2    MI     2  2014     863\n",
       "  8    MI     2  2016     694\n",
       "  11   MI     2  2017     690),\n",
       " ('RR',\n",
       "     Team  Rank  Year  Points\n",
       "  9    RR     4  2014     701\n",
       "  10   RR     1  2015     804)]"
      ]
     },
     "execution_count": 4,
     "metadata": {},
     "output_type": "execute_result"
    }
   ],
   "source": [
    "# typecast above: to get a output\n",
    "list(df.groupby('Team'))"
   ]
  },
  {
   "cell_type": "code",
   "execution_count": 5,
   "id": "3eb42712",
   "metadata": {},
   "outputs": [
    {
     "data": {
      "text/plain": [
       "<pandas.core.groupby.generic.DataFrameGroupBy object at 0x0000018CE130DE50>"
      ]
     },
     "execution_count": 5,
     "metadata": {},
     "output_type": "execute_result"
    }
   ],
   "source": [
    "tm = df.groupby('Team')\n",
    "tm"
   ]
  },
  {
   "cell_type": "code",
   "execution_count": 9,
   "id": "bdcb32b9",
   "metadata": {},
   "outputs": [
    {
     "name": "stdout",
     "output_type": "stream",
     "text": [
      "   Team  Rank  Year  Points\n",
      "0    MI     1  2014     876\n",
      "2    MI     2  2014     863\n",
      "8    MI     2  2016     694\n",
      "11   MI     2  2017     690\n"
     ]
    }
   ],
   "source": [
    "# Fetch data of only MI\n",
    "for team,data in tm:\n",
    "    if team == 'MI':\n",
    "        print(data)"
   ]
  },
  {
   "cell_type": "code",
   "execution_count": 12,
   "id": "be66b00a",
   "metadata": {},
   "outputs": [
    {
     "data": {
      "text/plain": [
       "{'CSK': [5, 6, 7], 'DL': [1, 3], 'Kings': [4], 'MI': [0, 2, 8, 11], 'RR': [9, 10]}"
      ]
     },
     "execution_count": 12,
     "metadata": {},
     "output_type": "execute_result"
    }
   ],
   "source": [
    "k = df.groupby('Team').groups # it gives team name index wise(where it is present)\n",
    "k"
   ]
  },
  {
   "cell_type": "code",
   "execution_count": 14,
   "id": "7dd4ef9a",
   "metadata": {},
   "outputs": [
    {
     "name": "stdout",
     "output_type": "stream",
     "text": [
      "Welcome to IPL Search\n",
      "Select your team from below:\n",
      "dict_keys(['CSK', 'DL', 'Kings', 'MI', 'RR'])\n",
      "Enter Your Team:MI\n"
     ]
    },
    {
     "data": {
      "text/html": [
       "<div>\n",
       "<style scoped>\n",
       "    .dataframe tbody tr th:only-of-type {\n",
       "        vertical-align: middle;\n",
       "    }\n",
       "\n",
       "    .dataframe tbody tr th {\n",
       "        vertical-align: top;\n",
       "    }\n",
       "\n",
       "    .dataframe thead th {\n",
       "        text-align: right;\n",
       "    }\n",
       "</style>\n",
       "<table border=\"1\" class=\"dataframe\">\n",
       "  <thead>\n",
       "    <tr style=\"text-align: right;\">\n",
       "      <th></th>\n",
       "      <th>Team</th>\n",
       "      <th>Rank</th>\n",
       "      <th>Year</th>\n",
       "      <th>Points</th>\n",
       "    </tr>\n",
       "  </thead>\n",
       "  <tbody>\n",
       "    <tr>\n",
       "      <th>0</th>\n",
       "      <td>MI</td>\n",
       "      <td>1</td>\n",
       "      <td>2014</td>\n",
       "      <td>876</td>\n",
       "    </tr>\n",
       "    <tr>\n",
       "      <th>2</th>\n",
       "      <td>MI</td>\n",
       "      <td>2</td>\n",
       "      <td>2014</td>\n",
       "      <td>863</td>\n",
       "    </tr>\n",
       "    <tr>\n",
       "      <th>8</th>\n",
       "      <td>MI</td>\n",
       "      <td>2</td>\n",
       "      <td>2016</td>\n",
       "      <td>694</td>\n",
       "    </tr>\n",
       "    <tr>\n",
       "      <th>11</th>\n",
       "      <td>MI</td>\n",
       "      <td>2</td>\n",
       "      <td>2017</td>\n",
       "      <td>690</td>\n",
       "    </tr>\n",
       "  </tbody>\n",
       "</table>\n",
       "</div>"
      ],
      "text/plain": [
       "   Team  Rank  Year  Points\n",
       "0    MI     1  2014     876\n",
       "2    MI     2  2014     863\n",
       "8    MI     2  2016     694\n",
       "11   MI     2  2017     690"
      ]
     },
     "execution_count": 14,
     "metadata": {},
     "output_type": "execute_result"
    }
   ],
   "source": [
    "print('Welcome to IPL Search')\n",
    "print('Select your team from below:')\n",
    "print(k.keys())\n",
    "tem = input('Enter Your Team:')\n",
    "ind = k[tem]\n",
    "df.loc[ind,:]"
   ]
  },
  {
   "cell_type": "code",
   "execution_count": 15,
   "id": "1af1a2a0",
   "metadata": {},
   "outputs": [
    {
     "data": {
      "text/plain": [
       "[(('CSK', 2015),\n",
       "    Team  Rank  Year  Points\n",
       "  5  CSK     4  2015     812),\n",
       " (('CSK', 2016),\n",
       "    Team  Rank  Year  Points\n",
       "  6  CSK     1  2016     756),\n",
       " (('CSK', 2017),\n",
       "    Team  Rank  Year  Points\n",
       "  7  CSK     1  2017     788),\n",
       " (('DL', 2015),\n",
       "    Team  Rank  Year  Points\n",
       "  1   DL     2  2015     789\n",
       "  3   DL     3  2015     673),\n",
       " (('Kings', 2016),\n",
       "      Team  Rank  Year  Points\n",
       "  4  Kings     3  2016     741),\n",
       " (('MI', 2014),\n",
       "    Team  Rank  Year  Points\n",
       "  0   MI     1  2014     876\n",
       "  2   MI     2  2014     863),\n",
       " (('MI', 2016),\n",
       "    Team  Rank  Year  Points\n",
       "  8   MI     2  2016     694),\n",
       " (('MI', 2017),\n",
       "     Team  Rank  Year  Points\n",
       "  11   MI     2  2017     690),\n",
       " (('RR', 2014),\n",
       "    Team  Rank  Year  Points\n",
       "  9   RR     4  2014     701),\n",
       " (('RR', 2015),\n",
       "     Team  Rank  Year  Points\n",
       "  10   RR     1  2015     804)]"
      ]
     },
     "execution_count": 15,
     "metadata": {},
     "output_type": "execute_result"
    }
   ],
   "source": [
    "list(df.groupby(['Team','Year']))"
   ]
  },
  {
   "cell_type": "code",
   "execution_count": null,
   "id": "53944e82",
   "metadata": {},
   "outputs": [],
   "source": [
    "# Fetch data only teams with rank 1"
   ]
  },
  {
   "cell_type": "code",
   "execution_count": null,
   "id": "a6e3a1dc",
   "metadata": {},
   "outputs": [],
   "source": [
    "# take sum of all points yearwise"
   ]
  },
  {
   "cell_type": "code",
   "execution_count": null,
   "id": "ad882db0",
   "metadata": {},
   "outputs": [],
   "source": [
    "# i want record of year 2017"
   ]
  },
  {
   "cell_type": "code",
   "execution_count": null,
   "id": "6d5eb048",
   "metadata": {},
   "outputs": [],
   "source": [
    "# multiple column groupby"
   ]
  },
  {
   "cell_type": "code",
   "execution_count": null,
   "id": "b9e7f12e",
   "metadata": {},
   "outputs": [],
   "source": [
    "# i want the team who stood 1st max times in ipl"
   ]
  }
 ],
 "metadata": {
  "kernelspec": {
   "display_name": "Python 3 (ipykernel)",
   "language": "python",
   "name": "python3"
  },
  "language_info": {
   "codemirror_mode": {
    "name": "ipython",
    "version": 3
   },
   "file_extension": ".py",
   "mimetype": "text/x-python",
   "name": "python",
   "nbconvert_exporter": "python",
   "pygments_lexer": "ipython3",
   "version": "3.9.12"
  }
 },
 "nbformat": 4,
 "nbformat_minor": 5
}
