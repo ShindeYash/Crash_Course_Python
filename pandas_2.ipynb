{
 "cells": [
  {
   "cell_type": "code",
   "execution_count": 1,
   "id": "e57ab8f0",
   "metadata": {},
   "outputs": [],
   "source": [
    "import numpy as np\n",
    "import pandas as pd"
   ]
  },
  {
   "cell_type": "code",
   "execution_count": 2,
   "id": "b7b246ed",
   "metadata": {},
   "outputs": [],
   "source": [
    "# DataFrame"
   ]
  },
  {
   "cell_type": "code",
   "execution_count": 3,
   "id": "814729d8",
   "metadata": {},
   "outputs": [
    {
     "name": "stdout",
     "output_type": "stream",
     "text": [
      "Empty DataFrame\n",
      "Columns: []\n",
      "Index: []\n"
     ]
    }
   ],
   "source": [
    "# 2D row and column\n",
    "print(pd.DataFrame())"
   ]
  },
  {
   "cell_type": "code",
   "execution_count": 4,
   "id": "b4c12b11",
   "metadata": {},
   "outputs": [
    {
     "ename": "SyntaxError",
     "evalue": "invalid syntax (1127668663.py, line 2)",
     "output_type": "error",
     "traceback": [
      "\u001b[1;36m  Input \u001b[1;32mIn [4]\u001b[1;36m\u001b[0m\n\u001b[1;33m    Init signature:\u001b[0m\n\u001b[1;37m         ^\u001b[0m\n\u001b[1;31mSyntaxError\u001b[0m\u001b[1;31m:\u001b[0m invalid syntax\n"
     ]
    }
   ],
   "source": [
    "pd.DataFrame()\n",
    "Init signature:\n",
    "pd.DataFrame(\n",
    "    data=None,\n",
    "    index: 'Axes | None' = None,\n",
    "    columns: 'Axes | None' = None,\n",
    "    dtype: 'Dtype | None' = None,\n",
    "    copy: 'bool | None' = None,\n",
    ") -> 'None'"
   ]
  },
  {
   "cell_type": "code",
   "execution_count": null,
   "id": "5c1ab29c",
   "metadata": {},
   "outputs": [],
   "source": [
    "pd.DataFrame().dtypes"
   ]
  },
  {
   "cell_type": "code",
   "execution_count": null,
   "id": "c3a8d443",
   "metadata": {},
   "outputs": [],
   "source": [
    "l = [12,34,56,67,90]\n",
    "pd.DataFrame(l)"
   ]
  },
  {
   "cell_type": "code",
   "execution_count": null,
   "id": "1ee2f1af",
   "metadata": {},
   "outputs": [],
   "source": [
    "pd.DataFrame([1,2.,3,4]) # Implicit typecasting"
   ]
  },
  {
   "cell_type": "code",
   "execution_count": null,
   "id": "8c8bbf6f",
   "metadata": {},
   "outputs": [],
   "source": [
    "pd.DataFrame([1,2.,3,4],dtype='int') # Explicit Typcasting"
   ]
  },
  {
   "cell_type": "code",
   "execution_count": null,
   "id": "4c90d7c0",
   "metadata": {},
   "outputs": [],
   "source": [
    "d = pd.DataFrame([1,2.,3,4],dtype='int')\n",
    "d.dtypes"
   ]
  },
  {
   "cell_type": "code",
   "execution_count": null,
   "id": "3e4b2334",
   "metadata": {},
   "outputs": [],
   "source": [
    "a = pd.DataFrame(['1','2','3'])\n",
    "a"
   ]
  },
  {
   "cell_type": "code",
   "execution_count": null,
   "id": "b1e259ab",
   "metadata": {},
   "outputs": [],
   "source": [
    "a.dtypes"
   ]
  },
  {
   "cell_type": "code",
   "execution_count": null,
   "id": "bb2f943a",
   "metadata": {},
   "outputs": [],
   "source": [
    "a2 = a.astype('int')\n",
    "a2"
   ]
  },
  {
   "cell_type": "code",
   "execution_count": null,
   "id": "9e3ab848",
   "metadata": {},
   "outputs": [],
   "source": [
    "a2.dtypes"
   ]
  },
  {
   "cell_type": "code",
   "execution_count": null,
   "id": "46a507b8",
   "metadata": {},
   "outputs": [],
   "source": [
    "# Advantage is we can create a data frame with Diff Data types"
   ]
  },
  {
   "cell_type": "code",
   "execution_count": null,
   "id": "9e33e11d",
   "metadata": {},
   "outputs": [],
   "source": [
    "df1 = {'name':['A','B','C'],'age':[23,45,34],'salary':[25000,50000,40000]}"
   ]
  },
  {
   "cell_type": "code",
   "execution_count": null,
   "id": "6fc15513",
   "metadata": {},
   "outputs": [],
   "source": [
    "h = pd.DataFrame(df1)\n",
    "h"
   ]
  },
  {
   "cell_type": "code",
   "execution_count": null,
   "id": "2118c538",
   "metadata": {},
   "outputs": [],
   "source": [
    "h.dtypes"
   ]
  },
  {
   "cell_type": "markdown",
   "id": "6d1b2117",
   "metadata": {},
   "source": [
    "# We can create a data frame using a"
   ]
  },
  {
   "cell_type": "markdown",
   "id": "12f779a1",
   "metadata": {},
   "source": [
    "list\n",
    "series\n",
    "numpy\n",
    "range\n",
    "str\n",
    "dict\n"
   ]
  },
  {
   "cell_type": "code",
   "execution_count": null,
   "id": "c975f7ca",
   "metadata": {},
   "outputs": [],
   "source": [
    "pd.DataFrame([10,20,30])"
   ]
  },
  {
   "cell_type": "code",
   "execution_count": null,
   "id": "2162ea43",
   "metadata": {},
   "outputs": [],
   "source": [
    "# list of list : one list is one row\n",
    "pd.DataFrame([[10,20,30],[11,22,33]])"
   ]
  },
  {
   "cell_type": "code",
   "execution_count": null,
   "id": "cec4ee5d",
   "metadata": {},
   "outputs": [],
   "source": [
    "# using by series\n",
    "pd.DataFrame(pd.Series([101,201,301,401,501]))"
   ]
  },
  {
   "cell_type": "code",
   "execution_count": 7,
   "id": "010902d3",
   "metadata": {},
   "outputs": [
    {
     "data": {
      "text/plain": [
       "array([[0.44501492, 0.36088685, 0.83321607, 0.85896209],\n",
       "       [0.27771176, 0.49303162, 0.95600168, 0.95550938],\n",
       "       [0.39629032, 0.78979907, 0.99447805, 0.0947769 ],\n",
       "       [0.48838616, 0.11403678, 0.37575498, 0.06745348]])"
      ]
     },
     "execution_count": 7,
     "metadata": {},
     "output_type": "execute_result"
    }
   ],
   "source": [
    "# using numpy\n",
    "data1 = np.random.random((4,4))\n",
    "data1"
   ]
  },
  {
   "cell_type": "code",
   "execution_count": null,
   "id": "5eb0d419",
   "metadata": {},
   "outputs": [],
   "source": [
    "data1.ndim"
   ]
  },
  {
   "cell_type": "code",
   "execution_count": 8,
   "id": "57e223d1",
   "metadata": {},
   "outputs": [
    {
     "data": {
      "text/html": [
       "<div>\n",
       "<style scoped>\n",
       "    .dataframe tbody tr th:only-of-type {\n",
       "        vertical-align: middle;\n",
       "    }\n",
       "\n",
       "    .dataframe tbody tr th {\n",
       "        vertical-align: top;\n",
       "    }\n",
       "\n",
       "    .dataframe thead th {\n",
       "        text-align: right;\n",
       "    }\n",
       "</style>\n",
       "<table border=\"1\" class=\"dataframe\">\n",
       "  <thead>\n",
       "    <tr style=\"text-align: right;\">\n",
       "      <th></th>\n",
       "      <th>0</th>\n",
       "      <th>1</th>\n",
       "      <th>2</th>\n",
       "      <th>3</th>\n",
       "    </tr>\n",
       "  </thead>\n",
       "  <tbody>\n",
       "    <tr>\n",
       "      <th>0</th>\n",
       "      <td>0.445015</td>\n",
       "      <td>0.360887</td>\n",
       "      <td>0.833216</td>\n",
       "      <td>0.858962</td>\n",
       "    </tr>\n",
       "    <tr>\n",
       "      <th>1</th>\n",
       "      <td>0.277712</td>\n",
       "      <td>0.493032</td>\n",
       "      <td>0.956002</td>\n",
       "      <td>0.955509</td>\n",
       "    </tr>\n",
       "    <tr>\n",
       "      <th>2</th>\n",
       "      <td>0.396290</td>\n",
       "      <td>0.789799</td>\n",
       "      <td>0.994478</td>\n",
       "      <td>0.094777</td>\n",
       "    </tr>\n",
       "    <tr>\n",
       "      <th>3</th>\n",
       "      <td>0.488386</td>\n",
       "      <td>0.114037</td>\n",
       "      <td>0.375755</td>\n",
       "      <td>0.067453</td>\n",
       "    </tr>\n",
       "  </tbody>\n",
       "</table>\n",
       "</div>"
      ],
      "text/plain": [
       "          0         1         2         3\n",
       "0  0.445015  0.360887  0.833216  0.858962\n",
       "1  0.277712  0.493032  0.956002  0.955509\n",
       "2  0.396290  0.789799  0.994478  0.094777\n",
       "3  0.488386  0.114037  0.375755  0.067453"
      ]
     },
     "execution_count": 8,
     "metadata": {},
     "output_type": "execute_result"
    }
   ],
   "source": [
    "pd.DataFrame(data1)"
   ]
  },
  {
   "cell_type": "code",
   "execution_count": 5,
   "id": "15c0d728",
   "metadata": {},
   "outputs": [
    {
     "data": {
      "text/html": [
       "<div>\n",
       "<style scoped>\n",
       "    .dataframe tbody tr th:only-of-type {\n",
       "        vertical-align: middle;\n",
       "    }\n",
       "\n",
       "    .dataframe tbody tr th {\n",
       "        vertical-align: top;\n",
       "    }\n",
       "\n",
       "    .dataframe thead th {\n",
       "        text-align: right;\n",
       "    }\n",
       "</style>\n",
       "<table border=\"1\" class=\"dataframe\">\n",
       "  <thead>\n",
       "    <tr style=\"text-align: right;\">\n",
       "      <th></th>\n",
       "      <th>0</th>\n",
       "      <th>1</th>\n",
       "      <th>2</th>\n",
       "      <th>3</th>\n",
       "    </tr>\n",
       "  </thead>\n",
       "  <tbody>\n",
       "    <tr>\n",
       "      <th>0</th>\n",
       "      <td>0.344211</td>\n",
       "      <td>0.073034</td>\n",
       "      <td>0.260303</td>\n",
       "      <td>0.791290</td>\n",
       "    </tr>\n",
       "    <tr>\n",
       "      <th>1</th>\n",
       "      <td>0.112382</td>\n",
       "      <td>0.662403</td>\n",
       "      <td>0.327027</td>\n",
       "      <td>0.222722</td>\n",
       "    </tr>\n",
       "    <tr>\n",
       "      <th>2</th>\n",
       "      <td>0.875768</td>\n",
       "      <td>0.649520</td>\n",
       "      <td>0.235400</td>\n",
       "      <td>0.443349</td>\n",
       "    </tr>\n",
       "    <tr>\n",
       "      <th>3</th>\n",
       "      <td>0.268868</td>\n",
       "      <td>0.467881</td>\n",
       "      <td>0.172187</td>\n",
       "      <td>0.530487</td>\n",
       "    </tr>\n",
       "  </tbody>\n",
       "</table>\n",
       "</div>"
      ],
      "text/plain": [
       "          0         1         2         3\n",
       "0  0.344211  0.073034  0.260303  0.791290\n",
       "1  0.112382  0.662403  0.327027  0.222722\n",
       "2  0.875768  0.649520  0.235400  0.443349\n",
       "3  0.268868  0.467881  0.172187  0.530487"
      ]
     },
     "execution_count": 5,
     "metadata": {},
     "output_type": "execute_result"
    }
   ],
   "source": [
    "pd.DataFrame(np.random.random((4,4)))"
   ]
  },
  {
   "cell_type": "code",
   "execution_count": 9,
   "id": "d192d596",
   "metadata": {},
   "outputs": [
    {
     "data": {
      "text/html": [
       "<div>\n",
       "<style scoped>\n",
       "    .dataframe tbody tr th:only-of-type {\n",
       "        vertical-align: middle;\n",
       "    }\n",
       "\n",
       "    .dataframe tbody tr th {\n",
       "        vertical-align: top;\n",
       "    }\n",
       "\n",
       "    .dataframe thead th {\n",
       "        text-align: right;\n",
       "    }\n",
       "</style>\n",
       "<table border=\"1\" class=\"dataframe\">\n",
       "  <thead>\n",
       "    <tr style=\"text-align: right;\">\n",
       "      <th></th>\n",
       "      <th>col1</th>\n",
       "      <th>col2</th>\n",
       "      <th>col3</th>\n",
       "      <th>col4</th>\n",
       "    </tr>\n",
       "  </thead>\n",
       "  <tbody>\n",
       "    <tr>\n",
       "      <th>0</th>\n",
       "      <td>0.445015</td>\n",
       "      <td>0.360887</td>\n",
       "      <td>0.833216</td>\n",
       "      <td>0.858962</td>\n",
       "    </tr>\n",
       "    <tr>\n",
       "      <th>1</th>\n",
       "      <td>0.277712</td>\n",
       "      <td>0.493032</td>\n",
       "      <td>0.956002</td>\n",
       "      <td>0.955509</td>\n",
       "    </tr>\n",
       "    <tr>\n",
       "      <th>2</th>\n",
       "      <td>0.396290</td>\n",
       "      <td>0.789799</td>\n",
       "      <td>0.994478</td>\n",
       "      <td>0.094777</td>\n",
       "    </tr>\n",
       "    <tr>\n",
       "      <th>3</th>\n",
       "      <td>0.488386</td>\n",
       "      <td>0.114037</td>\n",
       "      <td>0.375755</td>\n",
       "      <td>0.067453</td>\n",
       "    </tr>\n",
       "  </tbody>\n",
       "</table>\n",
       "</div>"
      ],
      "text/plain": [
       "       col1      col2      col3      col4\n",
       "0  0.445015  0.360887  0.833216  0.858962\n",
       "1  0.277712  0.493032  0.956002  0.955509\n",
       "2  0.396290  0.789799  0.994478  0.094777\n",
       "3  0.488386  0.114037  0.375755  0.067453"
      ]
     },
     "execution_count": 9,
     "metadata": {},
     "output_type": "execute_result"
    }
   ],
   "source": [
    "# Customize column labels\n",
    "d2 = pd.DataFrame(data1,columns=['col1','col2','col3','col4'])\n",
    "d2"
   ]
  },
  {
   "cell_type": "code",
   "execution_count": 10,
   "id": "6de08df4",
   "metadata": {},
   "outputs": [
    {
     "data": {
      "text/plain": [
       "Index(['col1', 'col2', 'col3', 'col4'], dtype='object')"
      ]
     },
     "execution_count": 10,
     "metadata": {},
     "output_type": "execute_result"
    }
   ],
   "source": [
    "# check column names\n",
    "d2.columns"
   ]
  },
  {
   "cell_type": "code",
   "execution_count": 11,
   "id": "b9972dfa",
   "metadata": {},
   "outputs": [],
   "source": [
    "# Change all column names/replace column names with new one\n",
    "d2.columns = ['A1','B1','C1','D1']"
   ]
  },
  {
   "cell_type": "code",
   "execution_count": 12,
   "id": "5933a197",
   "metadata": {},
   "outputs": [
    {
     "data": {
      "text/html": [
       "<div>\n",
       "<style scoped>\n",
       "    .dataframe tbody tr th:only-of-type {\n",
       "        vertical-align: middle;\n",
       "    }\n",
       "\n",
       "    .dataframe tbody tr th {\n",
       "        vertical-align: top;\n",
       "    }\n",
       "\n",
       "    .dataframe thead th {\n",
       "        text-align: right;\n",
       "    }\n",
       "</style>\n",
       "<table border=\"1\" class=\"dataframe\">\n",
       "  <thead>\n",
       "    <tr style=\"text-align: right;\">\n",
       "      <th></th>\n",
       "      <th>A1</th>\n",
       "      <th>B1</th>\n",
       "      <th>C1</th>\n",
       "      <th>D1</th>\n",
       "    </tr>\n",
       "  </thead>\n",
       "  <tbody>\n",
       "    <tr>\n",
       "      <th>0</th>\n",
       "      <td>0.445015</td>\n",
       "      <td>0.360887</td>\n",
       "      <td>0.833216</td>\n",
       "      <td>0.858962</td>\n",
       "    </tr>\n",
       "    <tr>\n",
       "      <th>1</th>\n",
       "      <td>0.277712</td>\n",
       "      <td>0.493032</td>\n",
       "      <td>0.956002</td>\n",
       "      <td>0.955509</td>\n",
       "    </tr>\n",
       "    <tr>\n",
       "      <th>2</th>\n",
       "      <td>0.396290</td>\n",
       "      <td>0.789799</td>\n",
       "      <td>0.994478</td>\n",
       "      <td>0.094777</td>\n",
       "    </tr>\n",
       "    <tr>\n",
       "      <th>3</th>\n",
       "      <td>0.488386</td>\n",
       "      <td>0.114037</td>\n",
       "      <td>0.375755</td>\n",
       "      <td>0.067453</td>\n",
       "    </tr>\n",
       "  </tbody>\n",
       "</table>\n",
       "</div>"
      ],
      "text/plain": [
       "         A1        B1        C1        D1\n",
       "0  0.445015  0.360887  0.833216  0.858962\n",
       "1  0.277712  0.493032  0.956002  0.955509\n",
       "2  0.396290  0.789799  0.994478  0.094777\n",
       "3  0.488386  0.114037  0.375755  0.067453"
      ]
     },
     "execution_count": 12,
     "metadata": {},
     "output_type": "execute_result"
    }
   ],
   "source": [
    "d2"
   ]
  },
  {
   "cell_type": "code",
   "execution_count": null,
   "id": "8e451640",
   "metadata": {},
   "outputs": [],
   "source": [
    "# Replace a name of single column\n",
    "d2.rename(columns={'A1':'ABC'})"
   ]
  },
  {
   "cell_type": "code",
   "execution_count": 13,
   "id": "e693e5d6",
   "metadata": {},
   "outputs": [
    {
     "data": {
      "text/html": [
       "<div>\n",
       "<style scoped>\n",
       "    .dataframe tbody tr th:only-of-type {\n",
       "        vertical-align: middle;\n",
       "    }\n",
       "\n",
       "    .dataframe tbody tr th {\n",
       "        vertical-align: top;\n",
       "    }\n",
       "\n",
       "    .dataframe thead th {\n",
       "        text-align: right;\n",
       "    }\n",
       "</style>\n",
       "<table border=\"1\" class=\"dataframe\">\n",
       "  <thead>\n",
       "    <tr style=\"text-align: right;\">\n",
       "      <th></th>\n",
       "      <th>A1</th>\n",
       "      <th>B1</th>\n",
       "      <th>C1</th>\n",
       "      <th>D1</th>\n",
       "    </tr>\n",
       "  </thead>\n",
       "  <tbody>\n",
       "    <tr>\n",
       "      <th>count</th>\n",
       "      <td>4.000000</td>\n",
       "      <td>4.000000</td>\n",
       "      <td>4.000000</td>\n",
       "      <td>4.000000</td>\n",
       "    </tr>\n",
       "    <tr>\n",
       "      <th>mean</th>\n",
       "      <td>0.401851</td>\n",
       "      <td>0.439439</td>\n",
       "      <td>0.789863</td>\n",
       "      <td>0.494175</td>\n",
       "    </tr>\n",
       "    <tr>\n",
       "      <th>std</th>\n",
       "      <td>0.090908</td>\n",
       "      <td>0.281473</td>\n",
       "      <td>0.284508</td>\n",
       "      <td>0.478717</td>\n",
       "    </tr>\n",
       "    <tr>\n",
       "      <th>min</th>\n",
       "      <td>0.277712</td>\n",
       "      <td>0.114037</td>\n",
       "      <td>0.375755</td>\n",
       "      <td>0.067453</td>\n",
       "    </tr>\n",
       "    <tr>\n",
       "      <th>25%</th>\n",
       "      <td>0.366646</td>\n",
       "      <td>0.299174</td>\n",
       "      <td>0.718851</td>\n",
       "      <td>0.087946</td>\n",
       "    </tr>\n",
       "    <tr>\n",
       "      <th>50%</th>\n",
       "      <td>0.420653</td>\n",
       "      <td>0.426959</td>\n",
       "      <td>0.894609</td>\n",
       "      <td>0.476869</td>\n",
       "    </tr>\n",
       "    <tr>\n",
       "      <th>75%</th>\n",
       "      <td>0.455858</td>\n",
       "      <td>0.567223</td>\n",
       "      <td>0.965621</td>\n",
       "      <td>0.883099</td>\n",
       "    </tr>\n",
       "    <tr>\n",
       "      <th>max</th>\n",
       "      <td>0.488386</td>\n",
       "      <td>0.789799</td>\n",
       "      <td>0.994478</td>\n",
       "      <td>0.955509</td>\n",
       "    </tr>\n",
       "  </tbody>\n",
       "</table>\n",
       "</div>"
      ],
      "text/plain": [
       "             A1        B1        C1        D1\n",
       "count  4.000000  4.000000  4.000000  4.000000\n",
       "mean   0.401851  0.439439  0.789863  0.494175\n",
       "std    0.090908  0.281473  0.284508  0.478717\n",
       "min    0.277712  0.114037  0.375755  0.067453\n",
       "25%    0.366646  0.299174  0.718851  0.087946\n",
       "50%    0.420653  0.426959  0.894609  0.476869\n",
       "75%    0.455858  0.567223  0.965621  0.883099\n",
       "max    0.488386  0.789799  0.994478  0.955509"
      ]
     },
     "execution_count": 13,
     "metadata": {},
     "output_type": "execute_result"
    }
   ],
   "source": [
    "d2.describe()"
   ]
  },
  {
   "cell_type": "code",
   "execution_count": 14,
   "id": "9d48c36f",
   "metadata": {},
   "outputs": [
    {
     "data": {
      "text/html": [
       "<div>\n",
       "<style scoped>\n",
       "    .dataframe tbody tr th:only-of-type {\n",
       "        vertical-align: middle;\n",
       "    }\n",
       "\n",
       "    .dataframe tbody tr th {\n",
       "        vertical-align: top;\n",
       "    }\n",
       "\n",
       "    .dataframe thead th {\n",
       "        text-align: right;\n",
       "    }\n",
       "</style>\n",
       "<table border=\"1\" class=\"dataframe\">\n",
       "  <thead>\n",
       "    <tr style=\"text-align: right;\">\n",
       "      <th></th>\n",
       "      <th>count</th>\n",
       "      <th>mean</th>\n",
       "      <th>std</th>\n",
       "      <th>min</th>\n",
       "      <th>25%</th>\n",
       "      <th>50%</th>\n",
       "      <th>75%</th>\n",
       "      <th>max</th>\n",
       "    </tr>\n",
       "  </thead>\n",
       "  <tbody>\n",
       "    <tr>\n",
       "      <th>A1</th>\n",
       "      <td>4.0</td>\n",
       "      <td>0.401851</td>\n",
       "      <td>0.090908</td>\n",
       "      <td>0.277712</td>\n",
       "      <td>0.366646</td>\n",
       "      <td>0.420653</td>\n",
       "      <td>0.455858</td>\n",
       "      <td>0.488386</td>\n",
       "    </tr>\n",
       "    <tr>\n",
       "      <th>B1</th>\n",
       "      <td>4.0</td>\n",
       "      <td>0.439439</td>\n",
       "      <td>0.281473</td>\n",
       "      <td>0.114037</td>\n",
       "      <td>0.299174</td>\n",
       "      <td>0.426959</td>\n",
       "      <td>0.567223</td>\n",
       "      <td>0.789799</td>\n",
       "    </tr>\n",
       "    <tr>\n",
       "      <th>C1</th>\n",
       "      <td>4.0</td>\n",
       "      <td>0.789863</td>\n",
       "      <td>0.284508</td>\n",
       "      <td>0.375755</td>\n",
       "      <td>0.718851</td>\n",
       "      <td>0.894609</td>\n",
       "      <td>0.965621</td>\n",
       "      <td>0.994478</td>\n",
       "    </tr>\n",
       "    <tr>\n",
       "      <th>D1</th>\n",
       "      <td>4.0</td>\n",
       "      <td>0.494175</td>\n",
       "      <td>0.478717</td>\n",
       "      <td>0.067453</td>\n",
       "      <td>0.087946</td>\n",
       "      <td>0.476869</td>\n",
       "      <td>0.883099</td>\n",
       "      <td>0.955509</td>\n",
       "    </tr>\n",
       "  </tbody>\n",
       "</table>\n",
       "</div>"
      ],
      "text/plain": [
       "    count      mean       std       min       25%       50%       75%  \\\n",
       "A1    4.0  0.401851  0.090908  0.277712  0.366646  0.420653  0.455858   \n",
       "B1    4.0  0.439439  0.281473  0.114037  0.299174  0.426959  0.567223   \n",
       "C1    4.0  0.789863  0.284508  0.375755  0.718851  0.894609  0.965621   \n",
       "D1    4.0  0.494175  0.478717  0.067453  0.087946  0.476869  0.883099   \n",
       "\n",
       "         max  \n",
       "A1  0.488386  \n",
       "B1  0.789799  \n",
       "C1  0.994478  \n",
       "D1  0.955509  "
      ]
     },
     "execution_count": 14,
     "metadata": {},
     "output_type": "execute_result"
    }
   ],
   "source": [
    "# Transpose\n",
    "d2.describe().transpose()"
   ]
  },
  {
   "cell_type": "code",
   "execution_count": 17,
   "id": "03087aca",
   "metadata": {},
   "outputs": [
    {
     "data": {
      "text/plain": [
       "0    0.445015\n",
       "1    0.277712\n",
       "2    0.396290\n",
       "3    0.488386\n",
       "Name: A1, dtype: float64"
      ]
     },
     "execution_count": 17,
     "metadata": {},
     "output_type": "execute_result"
    }
   ],
   "source": [
    "# i want answer of each factor seprtely\n",
    "# consider A1 column\n",
    "d2.A1"
   ]
  },
  {
   "cell_type": "code",
   "execution_count": 18,
   "id": "98dd30a2",
   "metadata": {},
   "outputs": [
    {
     "data": {
      "text/plain": [
       "4"
      ]
     },
     "execution_count": 18,
     "metadata": {},
     "output_type": "execute_result"
    }
   ],
   "source": [
    "d2.A1.count()"
   ]
  },
  {
   "cell_type": "code",
   "execution_count": 19,
   "id": "e439f4c7",
   "metadata": {},
   "outputs": [
    {
     "data": {
      "text/plain": [
       "4"
      ]
     },
     "execution_count": 19,
     "metadata": {},
     "output_type": "execute_result"
    }
   ],
   "source": [
    "len(d2.A1)"
   ]
  },
  {
   "cell_type": "code",
   "execution_count": 20,
   "id": "60d90b87",
   "metadata": {},
   "outputs": [
    {
     "data": {
      "text/plain": [
       "pandas.core.series.Series"
      ]
     },
     "execution_count": 20,
     "metadata": {},
     "output_type": "execute_result"
    }
   ],
   "source": [
    "type(d2.A1)"
   ]
  },
  {
   "cell_type": "code",
   "execution_count": 22,
   "id": "fab1d895",
   "metadata": {},
   "outputs": [
    {
     "data": {
      "text/plain": [
       "0.40185079101774446"
      ]
     },
     "execution_count": 22,
     "metadata": {},
     "output_type": "execute_result"
    }
   ],
   "source": [
    "# calculate mean \n",
    "d2.A1.mean()\n"
   ]
  },
  {
   "cell_type": "code",
   "execution_count": 23,
   "id": "a0183e8d",
   "metadata": {},
   "outputs": [
    {
     "data": {
      "text/html": [
       "<div>\n",
       "<style scoped>\n",
       "    .dataframe tbody tr th:only-of-type {\n",
       "        vertical-align: middle;\n",
       "    }\n",
       "\n",
       "    .dataframe tbody tr th {\n",
       "        vertical-align: top;\n",
       "    }\n",
       "\n",
       "    .dataframe thead th {\n",
       "        text-align: right;\n",
       "    }\n",
       "</style>\n",
       "<table border=\"1\" class=\"dataframe\">\n",
       "  <thead>\n",
       "    <tr style=\"text-align: right;\">\n",
       "      <th></th>\n",
       "      <th>A1</th>\n",
       "      <th>B1</th>\n",
       "      <th>C1</th>\n",
       "      <th>D1</th>\n",
       "    </tr>\n",
       "  </thead>\n",
       "  <tbody>\n",
       "    <tr>\n",
       "      <th>0</th>\n",
       "      <td>0.445015</td>\n",
       "      <td>0.360887</td>\n",
       "      <td>0.833216</td>\n",
       "      <td>0.858962</td>\n",
       "    </tr>\n",
       "    <tr>\n",
       "      <th>1</th>\n",
       "      <td>0.277712</td>\n",
       "      <td>0.493032</td>\n",
       "      <td>0.956002</td>\n",
       "      <td>0.955509</td>\n",
       "    </tr>\n",
       "    <tr>\n",
       "      <th>2</th>\n",
       "      <td>0.396290</td>\n",
       "      <td>0.789799</td>\n",
       "      <td>0.994478</td>\n",
       "      <td>0.094777</td>\n",
       "    </tr>\n",
       "    <tr>\n",
       "      <th>3</th>\n",
       "      <td>0.488386</td>\n",
       "      <td>0.114037</td>\n",
       "      <td>0.375755</td>\n",
       "      <td>0.067453</td>\n",
       "    </tr>\n",
       "  </tbody>\n",
       "</table>\n",
       "</div>"
      ],
      "text/plain": [
       "         A1        B1        C1        D1\n",
       "0  0.445015  0.360887  0.833216  0.858962\n",
       "1  0.277712  0.493032  0.956002  0.955509\n",
       "2  0.396290  0.789799  0.994478  0.094777\n",
       "3  0.488386  0.114037  0.375755  0.067453"
      ]
     },
     "execution_count": 23,
     "metadata": {},
     "output_type": "execute_result"
    }
   ],
   "source": [
    "d2"
   ]
  },
  {
   "cell_type": "code",
   "execution_count": 24,
   "id": "688680e4",
   "metadata": {},
   "outputs": [
    {
     "data": {
      "text/plain": [
       "A1    0.401851\n",
       "B1    0.439439\n",
       "C1    0.789863\n",
       "D1    0.494175\n",
       "dtype: float64"
      ]
     },
     "execution_count": 24,
     "metadata": {},
     "output_type": "execute_result"
    }
   ],
   "source": [
    "d2.mean()\n",
    "# calculate the mean column wise"
   ]
  },
  {
   "cell_type": "code",
   "execution_count": 25,
   "id": "c18a825b",
   "metadata": {},
   "outputs": [
    {
     "data": {
      "text/plain": [
       "0    0.624520\n",
       "1    0.670564\n",
       "2    0.568836\n",
       "3    0.261408\n",
       "dtype: float64"
      ]
     },
     "execution_count": 25,
     "metadata": {},
     "output_type": "execute_result"
    }
   ],
   "source": [
    "# calculate mean row wise\n",
    "d2.mean(axis=1)"
   ]
  },
  {
   "cell_type": "code",
   "execution_count": 26,
   "id": "cc8797f9",
   "metadata": {},
   "outputs": [
    {
     "data": {
      "text/plain": [
       "0    0.360887\n",
       "1    0.493032\n",
       "2    0.789799\n",
       "3    0.114037\n",
       "Name: B1, dtype: float64"
      ]
     },
     "execution_count": 26,
     "metadata": {},
     "output_type": "execute_result"
    }
   ],
   "source": [
    "d2['B1']"
   ]
  },
  {
   "cell_type": "code",
   "execution_count": 27,
   "id": "bd8537ed",
   "metadata": {},
   "outputs": [
    {
     "data": {
      "text/plain": [
       "A1    0.090908\n",
       "B1    0.281473\n",
       "C1    0.284508\n",
       "D1    0.478717\n",
       "dtype: float64"
      ]
     },
     "execution_count": 27,
     "metadata": {},
     "output_type": "execute_result"
    }
   ],
   "source": [
    "# cal std of all column\n",
    "d2.std()"
   ]
  },
  {
   "cell_type": "code",
   "execution_count": 28,
   "id": "88618beb",
   "metadata": {},
   "outputs": [
    {
     "data": {
      "text/plain": [
       "0.09090825360328034"
      ]
     },
     "execution_count": 28,
     "metadata": {},
     "output_type": "execute_result"
    }
   ],
   "source": [
    "d2.A1.std()"
   ]
  },
  {
   "cell_type": "code",
   "execution_count": 29,
   "id": "b9c10403",
   "metadata": {},
   "outputs": [
    {
     "data": {
      "text/plain": [
       "0.158330490145878"
      ]
     },
     "execution_count": 29,
     "metadata": {},
     "output_type": "execute_result"
    }
   ],
   "source": [
    "d2.std().std() # all columns std "
   ]
  },
  {
   "cell_type": "code",
   "execution_count": 31,
   "id": "35864a3b",
   "metadata": {},
   "outputs": [
    {
     "data": {
      "text/plain": [
       "0.31290292301121536"
      ]
     },
     "execution_count": 31,
     "metadata": {},
     "output_type": "execute_result"
    }
   ],
   "source": [
    "d2.values.flatten().std() # std of all data"
   ]
  },
  {
   "cell_type": "code",
   "execution_count": 32,
   "id": "887096e8",
   "metadata": {},
   "outputs": [
    {
     "data": {
      "text/plain": [
       "array([0.44501492, 0.36088685, 0.83321607, 0.85896209, 0.27771176,\n",
       "       0.49303162, 0.95600168, 0.95550938, 0.39629032, 0.78979907,\n",
       "       0.99447805, 0.0947769 , 0.48838616, 0.11403678, 0.37575498,\n",
       "       0.06745348])"
      ]
     },
     "execution_count": 32,
     "metadata": {},
     "output_type": "execute_result"
    }
   ],
   "source": [
    "d2.values.flatten() # convert data in 1D"
   ]
  },
  {
   "cell_type": "code",
   "execution_count": 33,
   "id": "871c11c8",
   "metadata": {},
   "outputs": [
    {
     "data": {
      "text/plain": [
       "0.40185079101774446"
      ]
     },
     "execution_count": 33,
     "metadata": {},
     "output_type": "execute_result"
    }
   ],
   "source": [
    "d2.A1.mean()"
   ]
  },
  {
   "cell_type": "markdown",
   "id": "cfa07a15",
   "metadata": {},
   "source": [
    "# Selection of columns"
   ]
  },
  {
   "cell_type": "code",
   "execution_count": 34,
   "id": "6d25f499",
   "metadata": {},
   "outputs": [
    {
     "data": {
      "text/plain": [
       "0    0.445015\n",
       "1    0.277712\n",
       "2    0.396290\n",
       "3    0.488386\n",
       "Name: A1, dtype: float64"
      ]
     },
     "execution_count": 34,
     "metadata": {},
     "output_type": "execute_result"
    }
   ],
   "source": [
    "d2.A1 # 1D Data"
   ]
  },
  {
   "cell_type": "code",
   "execution_count": 35,
   "id": "30a426d4",
   "metadata": {},
   "outputs": [
    {
     "data": {
      "text/plain": [
       "0    0.445015\n",
       "1    0.277712\n",
       "2    0.396290\n",
       "3    0.488386\n",
       "Name: A1, dtype: float64"
      ]
     },
     "execution_count": 35,
     "metadata": {},
     "output_type": "execute_result"
    }
   ],
   "source": [
    "d2['A1'] # !D data"
   ]
  },
  {
   "cell_type": "code",
   "execution_count": 36,
   "id": "39214cbd",
   "metadata": {},
   "outputs": [
    {
     "data": {
      "text/html": [
       "<div>\n",
       "<style scoped>\n",
       "    .dataframe tbody tr th:only-of-type {\n",
       "        vertical-align: middle;\n",
       "    }\n",
       "\n",
       "    .dataframe tbody tr th {\n",
       "        vertical-align: top;\n",
       "    }\n",
       "\n",
       "    .dataframe thead th {\n",
       "        text-align: right;\n",
       "    }\n",
       "</style>\n",
       "<table border=\"1\" class=\"dataframe\">\n",
       "  <thead>\n",
       "    <tr style=\"text-align: right;\">\n",
       "      <th></th>\n",
       "      <th>A1</th>\n",
       "    </tr>\n",
       "  </thead>\n",
       "  <tbody>\n",
       "    <tr>\n",
       "      <th>0</th>\n",
       "      <td>0.445015</td>\n",
       "    </tr>\n",
       "    <tr>\n",
       "      <th>1</th>\n",
       "      <td>0.277712</td>\n",
       "    </tr>\n",
       "    <tr>\n",
       "      <th>2</th>\n",
       "      <td>0.396290</td>\n",
       "    </tr>\n",
       "    <tr>\n",
       "      <th>3</th>\n",
       "      <td>0.488386</td>\n",
       "    </tr>\n",
       "  </tbody>\n",
       "</table>\n",
       "</div>"
      ],
      "text/plain": [
       "         A1\n",
       "0  0.445015\n",
       "1  0.277712\n",
       "2  0.396290\n",
       "3  0.488386"
      ]
     },
     "execution_count": 36,
     "metadata": {},
     "output_type": "execute_result"
    }
   ],
   "source": [
    "# 2D data\n",
    "d2[['A1']]"
   ]
  },
  {
   "cell_type": "code",
   "execution_count": 37,
   "id": "101c2575",
   "metadata": {},
   "outputs": [
    {
     "data": {
      "text/html": [
       "<div>\n",
       "<style scoped>\n",
       "    .dataframe tbody tr th:only-of-type {\n",
       "        vertical-align: middle;\n",
       "    }\n",
       "\n",
       "    .dataframe tbody tr th {\n",
       "        vertical-align: top;\n",
       "    }\n",
       "\n",
       "    .dataframe thead th {\n",
       "        text-align: right;\n",
       "    }\n",
       "</style>\n",
       "<table border=\"1\" class=\"dataframe\">\n",
       "  <thead>\n",
       "    <tr style=\"text-align: right;\">\n",
       "      <th></th>\n",
       "      <th>A1</th>\n",
       "      <th>B1</th>\n",
       "      <th>C1</th>\n",
       "    </tr>\n",
       "  </thead>\n",
       "  <tbody>\n",
       "    <tr>\n",
       "      <th>0</th>\n",
       "      <td>0.445015</td>\n",
       "      <td>0.360887</td>\n",
       "      <td>0.833216</td>\n",
       "    </tr>\n",
       "    <tr>\n",
       "      <th>1</th>\n",
       "      <td>0.277712</td>\n",
       "      <td>0.493032</td>\n",
       "      <td>0.956002</td>\n",
       "    </tr>\n",
       "    <tr>\n",
       "      <th>2</th>\n",
       "      <td>0.396290</td>\n",
       "      <td>0.789799</td>\n",
       "      <td>0.994478</td>\n",
       "    </tr>\n",
       "    <tr>\n",
       "      <th>3</th>\n",
       "      <td>0.488386</td>\n",
       "      <td>0.114037</td>\n",
       "      <td>0.375755</td>\n",
       "    </tr>\n",
       "  </tbody>\n",
       "</table>\n",
       "</div>"
      ],
      "text/plain": [
       "         A1        B1        C1\n",
       "0  0.445015  0.360887  0.833216\n",
       "1  0.277712  0.493032  0.956002\n",
       "2  0.396290  0.789799  0.994478\n",
       "3  0.488386  0.114037  0.375755"
      ]
     },
     "execution_count": 37,
     "metadata": {},
     "output_type": "execute_result"
    }
   ],
   "source": [
    "# access more than one column\n",
    "d2[['A1','B1','C1']]"
   ]
  },
  {
   "cell_type": "markdown",
   "id": "ce51a2c8",
   "metadata": {},
   "source": [
    "loc : location based selection / label based selection"
   ]
  },
  {
   "cell_type": "code",
   "execution_count": 38,
   "id": "ca23bc46",
   "metadata": {},
   "outputs": [
    {
     "data": {
      "text/html": [
       "<div>\n",
       "<style scoped>\n",
       "    .dataframe tbody tr th:only-of-type {\n",
       "        vertical-align: middle;\n",
       "    }\n",
       "\n",
       "    .dataframe tbody tr th {\n",
       "        vertical-align: top;\n",
       "    }\n",
       "\n",
       "    .dataframe thead th {\n",
       "        text-align: right;\n",
       "    }\n",
       "</style>\n",
       "<table border=\"1\" class=\"dataframe\">\n",
       "  <thead>\n",
       "    <tr style=\"text-align: right;\">\n",
       "      <th></th>\n",
       "      <th>A1</th>\n",
       "      <th>B1</th>\n",
       "      <th>C1</th>\n",
       "      <th>D1</th>\n",
       "    </tr>\n",
       "  </thead>\n",
       "  <tbody>\n",
       "    <tr>\n",
       "      <th>0</th>\n",
       "      <td>0.445015</td>\n",
       "      <td>0.360887</td>\n",
       "      <td>0.833216</td>\n",
       "      <td>0.858962</td>\n",
       "    </tr>\n",
       "    <tr>\n",
       "      <th>1</th>\n",
       "      <td>0.277712</td>\n",
       "      <td>0.493032</td>\n",
       "      <td>0.956002</td>\n",
       "      <td>0.955509</td>\n",
       "    </tr>\n",
       "    <tr>\n",
       "      <th>2</th>\n",
       "      <td>0.396290</td>\n",
       "      <td>0.789799</td>\n",
       "      <td>0.994478</td>\n",
       "      <td>0.094777</td>\n",
       "    </tr>\n",
       "    <tr>\n",
       "      <th>3</th>\n",
       "      <td>0.488386</td>\n",
       "      <td>0.114037</td>\n",
       "      <td>0.375755</td>\n",
       "      <td>0.067453</td>\n",
       "    </tr>\n",
       "  </tbody>\n",
       "</table>\n",
       "</div>"
      ],
      "text/plain": [
       "         A1        B1        C1        D1\n",
       "0  0.445015  0.360887  0.833216  0.858962\n",
       "1  0.277712  0.493032  0.956002  0.955509\n",
       "2  0.396290  0.789799  0.994478  0.094777\n",
       "3  0.488386  0.114037  0.375755  0.067453"
      ]
     },
     "execution_count": 38,
     "metadata": {},
     "output_type": "execute_result"
    }
   ],
   "source": [
    "d2.loc[:,:]  #[rows, columns]"
   ]
  },
  {
   "cell_type": "code",
   "execution_count": 39,
   "id": "c118fb9b",
   "metadata": {},
   "outputs": [
    {
     "data": {
      "text/html": [
       "<div>\n",
       "<style scoped>\n",
       "    .dataframe tbody tr th:only-of-type {\n",
       "        vertical-align: middle;\n",
       "    }\n",
       "\n",
       "    .dataframe tbody tr th {\n",
       "        vertical-align: top;\n",
       "    }\n",
       "\n",
       "    .dataframe thead th {\n",
       "        text-align: right;\n",
       "    }\n",
       "</style>\n",
       "<table border=\"1\" class=\"dataframe\">\n",
       "  <thead>\n",
       "    <tr style=\"text-align: right;\">\n",
       "      <th></th>\n",
       "      <th>C1</th>\n",
       "      <th>D1</th>\n",
       "    </tr>\n",
       "  </thead>\n",
       "  <tbody>\n",
       "    <tr>\n",
       "      <th>0</th>\n",
       "      <td>0.833216</td>\n",
       "      <td>0.858962</td>\n",
       "    </tr>\n",
       "    <tr>\n",
       "      <th>1</th>\n",
       "      <td>0.956002</td>\n",
       "      <td>0.955509</td>\n",
       "    </tr>\n",
       "    <tr>\n",
       "      <th>2</th>\n",
       "      <td>0.994478</td>\n",
       "      <td>0.094777</td>\n",
       "    </tr>\n",
       "    <tr>\n",
       "      <th>3</th>\n",
       "      <td>0.375755</td>\n",
       "      <td>0.067453</td>\n",
       "    </tr>\n",
       "  </tbody>\n",
       "</table>\n",
       "</div>"
      ],
      "text/plain": [
       "         C1        D1\n",
       "0  0.833216  0.858962\n",
       "1  0.956002  0.955509\n",
       "2  0.994478  0.094777\n",
       "3  0.375755  0.067453"
      ]
     },
     "execution_count": 39,
     "metadata": {},
     "output_type": "execute_result"
    }
   ],
   "source": [
    "# work on column\n",
    "d2.loc[:,'C1':]"
   ]
  },
  {
   "cell_type": "code",
   "execution_count": 41,
   "id": "fd5952db",
   "metadata": {},
   "outputs": [
    {
     "data": {
      "text/html": [
       "<div>\n",
       "<style scoped>\n",
       "    .dataframe tbody tr th:only-of-type {\n",
       "        vertical-align: middle;\n",
       "    }\n",
       "\n",
       "    .dataframe tbody tr th {\n",
       "        vertical-align: top;\n",
       "    }\n",
       "\n",
       "    .dataframe thead th {\n",
       "        text-align: right;\n",
       "    }\n",
       "</style>\n",
       "<table border=\"1\" class=\"dataframe\">\n",
       "  <thead>\n",
       "    <tr style=\"text-align: right;\">\n",
       "      <th></th>\n",
       "      <th>A1</th>\n",
       "      <th>B1</th>\n",
       "    </tr>\n",
       "  </thead>\n",
       "  <tbody>\n",
       "    <tr>\n",
       "      <th>0</th>\n",
       "      <td>0.445015</td>\n",
       "      <td>0.360887</td>\n",
       "    </tr>\n",
       "    <tr>\n",
       "      <th>1</th>\n",
       "      <td>0.277712</td>\n",
       "      <td>0.493032</td>\n",
       "    </tr>\n",
       "  </tbody>\n",
       "</table>\n",
       "</div>"
      ],
      "text/plain": [
       "         A1        B1\n",
       "0  0.445015  0.360887\n",
       "1  0.277712  0.493032"
      ]
     },
     "execution_count": 41,
     "metadata": {},
     "output_type": "execute_result"
    }
   ],
   "source": [
    "d2.loc[:1,'A1':'B1'] # stop is inclusive"
   ]
  },
  {
   "cell_type": "code",
   "execution_count": 43,
   "id": "b930bc1a",
   "metadata": {},
   "outputs": [
    {
     "data": {
      "text/html": [
       "<div>\n",
       "<style scoped>\n",
       "    .dataframe tbody tr th:only-of-type {\n",
       "        vertical-align: middle;\n",
       "    }\n",
       "\n",
       "    .dataframe tbody tr th {\n",
       "        vertical-align: top;\n",
       "    }\n",
       "\n",
       "    .dataframe thead th {\n",
       "        text-align: right;\n",
       "    }\n",
       "</style>\n",
       "<table border=\"1\" class=\"dataframe\">\n",
       "  <thead>\n",
       "    <tr style=\"text-align: right;\">\n",
       "      <th></th>\n",
       "      <th>D1</th>\n",
       "      <th>C1</th>\n",
       "      <th>B1</th>\n",
       "      <th>A1</th>\n",
       "    </tr>\n",
       "  </thead>\n",
       "  <tbody>\n",
       "    <tr>\n",
       "      <th>0</th>\n",
       "      <td>0.858962</td>\n",
       "      <td>0.833216</td>\n",
       "      <td>0.360887</td>\n",
       "      <td>0.445015</td>\n",
       "    </tr>\n",
       "    <tr>\n",
       "      <th>1</th>\n",
       "      <td>0.955509</td>\n",
       "      <td>0.956002</td>\n",
       "      <td>0.493032</td>\n",
       "      <td>0.277712</td>\n",
       "    </tr>\n",
       "    <tr>\n",
       "      <th>2</th>\n",
       "      <td>0.094777</td>\n",
       "      <td>0.994478</td>\n",
       "      <td>0.789799</td>\n",
       "      <td>0.396290</td>\n",
       "    </tr>\n",
       "    <tr>\n",
       "      <th>3</th>\n",
       "      <td>0.067453</td>\n",
       "      <td>0.375755</td>\n",
       "      <td>0.114037</td>\n",
       "      <td>0.488386</td>\n",
       "    </tr>\n",
       "  </tbody>\n",
       "</table>\n",
       "</div>"
      ],
      "text/plain": [
       "         D1        C1        B1        A1\n",
       "0  0.858962  0.833216  0.360887  0.445015\n",
       "1  0.955509  0.956002  0.493032  0.277712\n",
       "2  0.094777  0.994478  0.789799  0.396290\n",
       "3  0.067453  0.375755  0.114037  0.488386"
      ]
     },
     "execution_count": 43,
     "metadata": {},
     "output_type": "execute_result"
    }
   ],
   "source": [
    "# reverse the column order\n",
    "d2.loc[:,::-1]"
   ]
  },
  {
   "cell_type": "code",
   "execution_count": 44,
   "id": "3d8e44b6",
   "metadata": {},
   "outputs": [],
   "source": [
    "# Assignment Apply different options over rows using loc"
   ]
  },
  {
   "cell_type": "code",
   "execution_count": 45,
   "id": "444f9e48",
   "metadata": {},
   "outputs": [
    {
     "data": {
      "text/html": [
       "<div>\n",
       "<style scoped>\n",
       "    .dataframe tbody tr th:only-of-type {\n",
       "        vertical-align: middle;\n",
       "    }\n",
       "\n",
       "    .dataframe tbody tr th {\n",
       "        vertical-align: top;\n",
       "    }\n",
       "\n",
       "    .dataframe thead th {\n",
       "        text-align: right;\n",
       "    }\n",
       "</style>\n",
       "<table border=\"1\" class=\"dataframe\">\n",
       "  <thead>\n",
       "    <tr style=\"text-align: right;\">\n",
       "      <th></th>\n",
       "      <th>A1</th>\n",
       "      <th>B1</th>\n",
       "      <th>C1</th>\n",
       "      <th>D1</th>\n",
       "    </tr>\n",
       "  </thead>\n",
       "  <tbody>\n",
       "    <tr>\n",
       "      <th>0</th>\n",
       "      <td>0.445015</td>\n",
       "      <td>0.360887</td>\n",
       "      <td>0.833216</td>\n",
       "      <td>0.858962</td>\n",
       "    </tr>\n",
       "    <tr>\n",
       "      <th>1</th>\n",
       "      <td>0.277712</td>\n",
       "      <td>0.493032</td>\n",
       "      <td>0.956002</td>\n",
       "      <td>0.955509</td>\n",
       "    </tr>\n",
       "    <tr>\n",
       "      <th>2</th>\n",
       "      <td>0.396290</td>\n",
       "      <td>0.789799</td>\n",
       "      <td>0.994478</td>\n",
       "      <td>0.094777</td>\n",
       "    </tr>\n",
       "    <tr>\n",
       "      <th>3</th>\n",
       "      <td>0.488386</td>\n",
       "      <td>0.114037</td>\n",
       "      <td>0.375755</td>\n",
       "      <td>0.067453</td>\n",
       "    </tr>\n",
       "  </tbody>\n",
       "</table>\n",
       "</div>"
      ],
      "text/plain": [
       "         A1        B1        C1        D1\n",
       "0  0.445015  0.360887  0.833216  0.858962\n",
       "1  0.277712  0.493032  0.956002  0.955509\n",
       "2  0.396290  0.789799  0.994478  0.094777\n",
       "3  0.488386  0.114037  0.375755  0.067453"
      ]
     },
     "execution_count": 45,
     "metadata": {},
     "output_type": "execute_result"
    }
   ],
   "source": [
    "# access data using by indexing\n",
    "d2.iloc[:,:]"
   ]
  },
  {
   "cell_type": "code",
   "execution_count": 49,
   "id": "8cdf4a21",
   "metadata": {},
   "outputs": [
    {
     "data": {
      "text/html": [
       "<div>\n",
       "<style scoped>\n",
       "    .dataframe tbody tr th:only-of-type {\n",
       "        vertical-align: middle;\n",
       "    }\n",
       "\n",
       "    .dataframe tbody tr th {\n",
       "        vertical-align: top;\n",
       "    }\n",
       "\n",
       "    .dataframe thead th {\n",
       "        text-align: right;\n",
       "    }\n",
       "</style>\n",
       "<table border=\"1\" class=\"dataframe\">\n",
       "  <thead>\n",
       "    <tr style=\"text-align: right;\">\n",
       "      <th></th>\n",
       "      <th>A1</th>\n",
       "      <th>B1</th>\n",
       "    </tr>\n",
       "  </thead>\n",
       "  <tbody>\n",
       "    <tr>\n",
       "      <th>0</th>\n",
       "      <td>0.445015</td>\n",
       "      <td>0.360887</td>\n",
       "    </tr>\n",
       "    <tr>\n",
       "      <th>1</th>\n",
       "      <td>0.277712</td>\n",
       "      <td>0.493032</td>\n",
       "    </tr>\n",
       "  </tbody>\n",
       "</table>\n",
       "</div>"
      ],
      "text/plain": [
       "         A1        B1\n",
       "0  0.445015  0.360887\n",
       "1  0.277712  0.493032"
      ]
     },
     "execution_count": 49,
     "metadata": {},
     "output_type": "execute_result"
    }
   ],
   "source": [
    "d2.iloc[:2,0:2] # stop is exclusive in iloc "
   ]
  },
  {
   "cell_type": "code",
   "execution_count": 50,
   "id": "2a50ad48",
   "metadata": {},
   "outputs": [
    {
     "data": {
      "text/plain": [
       "'\\nA group by operation involves some combination of splitting the object,\\napplying a function, and combining the results.\\n\\nThis can be used to group large amounts of data and compute operations on these data\\n'"
      ]
     },
     "execution_count": 50,
     "metadata": {},
     "output_type": "execute_result"
    }
   ],
   "source": [
    "# Groupby\n",
    "'''\n",
    "A group by operation involves some combination of splitting the object,\n",
    "applying a function, and combining the results.\n",
    "\n",
    "This can be used to group large amounts of data and compute operations on these data\n",
    "'''"
   ]
  },
  {
   "cell_type": "code",
   "execution_count": 56,
   "id": "3d2951b6",
   "metadata": {},
   "outputs": [],
   "source": [
    "ipl_data = {'Team':['MI','DL','MI','DL','Kings','CSK','CSK','CSK','MI','RR','RR','MI'],\n",
    "           'Rank':[1,2,2,3,3,4,1,1,2,4,1,2],\n",
    "           'Year':[2014,2015,2014,2015,2016,2015,2016,2017,2016,2014,2015,2017],\n",
    "           'Points':[876,789,863,673,741,812,756,788,694,701,804,690]}\n"
   ]
  },
  {
   "cell_type": "code",
   "execution_count": 57,
   "id": "06f5926d",
   "metadata": {},
   "outputs": [
    {
     "data": {
      "text/html": [
       "<div>\n",
       "<style scoped>\n",
       "    .dataframe tbody tr th:only-of-type {\n",
       "        vertical-align: middle;\n",
       "    }\n",
       "\n",
       "    .dataframe tbody tr th {\n",
       "        vertical-align: top;\n",
       "    }\n",
       "\n",
       "    .dataframe thead th {\n",
       "        text-align: right;\n",
       "    }\n",
       "</style>\n",
       "<table border=\"1\" class=\"dataframe\">\n",
       "  <thead>\n",
       "    <tr style=\"text-align: right;\">\n",
       "      <th></th>\n",
       "      <th>Team</th>\n",
       "      <th>Rank</th>\n",
       "      <th>Year</th>\n",
       "      <th>Points</th>\n",
       "    </tr>\n",
       "  </thead>\n",
       "  <tbody>\n",
       "    <tr>\n",
       "      <th>0</th>\n",
       "      <td>MI</td>\n",
       "      <td>1</td>\n",
       "      <td>2014</td>\n",
       "      <td>876</td>\n",
       "    </tr>\n",
       "    <tr>\n",
       "      <th>1</th>\n",
       "      <td>DL</td>\n",
       "      <td>2</td>\n",
       "      <td>2015</td>\n",
       "      <td>789</td>\n",
       "    </tr>\n",
       "    <tr>\n",
       "      <th>2</th>\n",
       "      <td>MI</td>\n",
       "      <td>2</td>\n",
       "      <td>2014</td>\n",
       "      <td>863</td>\n",
       "    </tr>\n",
       "    <tr>\n",
       "      <th>3</th>\n",
       "      <td>DL</td>\n",
       "      <td>3</td>\n",
       "      <td>2015</td>\n",
       "      <td>673</td>\n",
       "    </tr>\n",
       "    <tr>\n",
       "      <th>4</th>\n",
       "      <td>Kings</td>\n",
       "      <td>3</td>\n",
       "      <td>2016</td>\n",
       "      <td>741</td>\n",
       "    </tr>\n",
       "    <tr>\n",
       "      <th>5</th>\n",
       "      <td>CSK</td>\n",
       "      <td>4</td>\n",
       "      <td>2015</td>\n",
       "      <td>812</td>\n",
       "    </tr>\n",
       "    <tr>\n",
       "      <th>6</th>\n",
       "      <td>CSK</td>\n",
       "      <td>1</td>\n",
       "      <td>2016</td>\n",
       "      <td>756</td>\n",
       "    </tr>\n",
       "    <tr>\n",
       "      <th>7</th>\n",
       "      <td>CSK</td>\n",
       "      <td>1</td>\n",
       "      <td>2017</td>\n",
       "      <td>788</td>\n",
       "    </tr>\n",
       "    <tr>\n",
       "      <th>8</th>\n",
       "      <td>MI</td>\n",
       "      <td>2</td>\n",
       "      <td>2016</td>\n",
       "      <td>694</td>\n",
       "    </tr>\n",
       "    <tr>\n",
       "      <th>9</th>\n",
       "      <td>RR</td>\n",
       "      <td>4</td>\n",
       "      <td>2014</td>\n",
       "      <td>701</td>\n",
       "    </tr>\n",
       "    <tr>\n",
       "      <th>10</th>\n",
       "      <td>RR</td>\n",
       "      <td>1</td>\n",
       "      <td>2015</td>\n",
       "      <td>804</td>\n",
       "    </tr>\n",
       "    <tr>\n",
       "      <th>11</th>\n",
       "      <td>MI</td>\n",
       "      <td>2</td>\n",
       "      <td>2017</td>\n",
       "      <td>690</td>\n",
       "    </tr>\n",
       "  </tbody>\n",
       "</table>\n",
       "</div>"
      ],
      "text/plain": [
       "     Team  Rank  Year  Points\n",
       "0      MI     1  2014     876\n",
       "1      DL     2  2015     789\n",
       "2      MI     2  2014     863\n",
       "3      DL     3  2015     673\n",
       "4   Kings     3  2016     741\n",
       "5     CSK     4  2015     812\n",
       "6     CSK     1  2016     756\n",
       "7     CSK     1  2017     788\n",
       "8      MI     2  2016     694\n",
       "9      RR     4  2014     701\n",
       "10     RR     1  2015     804\n",
       "11     MI     2  2017     690"
      ]
     },
     "execution_count": 57,
     "metadata": {},
     "output_type": "execute_result"
    }
   ],
   "source": [
    "df = pd.DataFrame(ipl_data)\n",
    "df"
   ]
  },
  {
   "cell_type": "code",
   "execution_count": 58,
   "id": "50fa0255",
   "metadata": {},
   "outputs": [
    {
     "data": {
      "text/plain": [
       "0        MI\n",
       "1        DL\n",
       "2        MI\n",
       "3        DL\n",
       "4     Kings\n",
       "5       CSK\n",
       "6       CSK\n",
       "7       CSK\n",
       "8        MI\n",
       "9        RR\n",
       "10       RR\n",
       "11       MI\n",
       "Name: Team, dtype: object"
      ]
     },
     "execution_count": 58,
     "metadata": {},
     "output_type": "execute_result"
    }
   ],
   "source": [
    "df.Team"
   ]
  },
  {
   "cell_type": "code",
   "execution_count": 59,
   "id": "8378c5de",
   "metadata": {},
   "outputs": [
    {
     "data": {
      "text/plain": [
       "0        MI\n",
       "1        DL\n",
       "2        MI\n",
       "3        DL\n",
       "4     Kings\n",
       "5       CSK\n",
       "6       CSK\n",
       "7       CSK\n",
       "8        MI\n",
       "9        RR\n",
       "10       RR\n",
       "11       MI\n",
       "Name: Team, dtype: object"
      ]
     },
     "execution_count": 59,
     "metadata": {},
     "output_type": "execute_result"
    }
   ],
   "source": [
    "df['Team']"
   ]
  },
  {
   "cell_type": "code",
   "execution_count": 60,
   "id": "1fc46297",
   "metadata": {},
   "outputs": [
    {
     "data": {
      "text/html": [
       "<div>\n",
       "<style scoped>\n",
       "    .dataframe tbody tr th:only-of-type {\n",
       "        vertical-align: middle;\n",
       "    }\n",
       "\n",
       "    .dataframe tbody tr th {\n",
       "        vertical-align: top;\n",
       "    }\n",
       "\n",
       "    .dataframe thead th {\n",
       "        text-align: right;\n",
       "    }\n",
       "</style>\n",
       "<table border=\"1\" class=\"dataframe\">\n",
       "  <thead>\n",
       "    <tr style=\"text-align: right;\">\n",
       "      <th></th>\n",
       "      <th>Team</th>\n",
       "      <th>Rank</th>\n",
       "    </tr>\n",
       "  </thead>\n",
       "  <tbody>\n",
       "    <tr>\n",
       "      <th>0</th>\n",
       "      <td>MI</td>\n",
       "      <td>1</td>\n",
       "    </tr>\n",
       "    <tr>\n",
       "      <th>1</th>\n",
       "      <td>DL</td>\n",
       "      <td>2</td>\n",
       "    </tr>\n",
       "    <tr>\n",
       "      <th>2</th>\n",
       "      <td>MI</td>\n",
       "      <td>2</td>\n",
       "    </tr>\n",
       "    <tr>\n",
       "      <th>3</th>\n",
       "      <td>DL</td>\n",
       "      <td>3</td>\n",
       "    </tr>\n",
       "    <tr>\n",
       "      <th>4</th>\n",
       "      <td>Kings</td>\n",
       "      <td>3</td>\n",
       "    </tr>\n",
       "    <tr>\n",
       "      <th>5</th>\n",
       "      <td>CSK</td>\n",
       "      <td>4</td>\n",
       "    </tr>\n",
       "    <tr>\n",
       "      <th>6</th>\n",
       "      <td>CSK</td>\n",
       "      <td>1</td>\n",
       "    </tr>\n",
       "    <tr>\n",
       "      <th>7</th>\n",
       "      <td>CSK</td>\n",
       "      <td>1</td>\n",
       "    </tr>\n",
       "    <tr>\n",
       "      <th>8</th>\n",
       "      <td>MI</td>\n",
       "      <td>2</td>\n",
       "    </tr>\n",
       "    <tr>\n",
       "      <th>9</th>\n",
       "      <td>RR</td>\n",
       "      <td>4</td>\n",
       "    </tr>\n",
       "    <tr>\n",
       "      <th>10</th>\n",
       "      <td>RR</td>\n",
       "      <td>1</td>\n",
       "    </tr>\n",
       "    <tr>\n",
       "      <th>11</th>\n",
       "      <td>MI</td>\n",
       "      <td>2</td>\n",
       "    </tr>\n",
       "  </tbody>\n",
       "</table>\n",
       "</div>"
      ],
      "text/plain": [
       "     Team  Rank\n",
       "0      MI     1\n",
       "1      DL     2\n",
       "2      MI     2\n",
       "3      DL     3\n",
       "4   Kings     3\n",
       "5     CSK     4\n",
       "6     CSK     1\n",
       "7     CSK     1\n",
       "8      MI     2\n",
       "9      RR     4\n",
       "10     RR     1\n",
       "11     MI     2"
      ]
     },
     "execution_count": 60,
     "metadata": {},
     "output_type": "execute_result"
    }
   ],
   "source": [
    "# access Team and Rank \n",
    "df.drop(columns=['Year','Points'])"
   ]
  },
  {
   "cell_type": "code",
   "execution_count": 61,
   "id": "6358d282",
   "metadata": {},
   "outputs": [
    {
     "data": {
      "text/plain": [
       "array(['MI', 'DL', 'Kings', 'CSK', 'RR'], dtype=object)"
      ]
     },
     "execution_count": 61,
     "metadata": {},
     "output_type": "execute_result"
    }
   ],
   "source": [
    "# i want unique Teanm names / find out total teams in dataset\n",
    "df['Team'].unique()"
   ]
  },
  {
   "cell_type": "code",
   "execution_count": 62,
   "id": "201f256f",
   "metadata": {},
   "outputs": [
    {
     "data": {
      "text/plain": [
       "5"
      ]
     },
     "execution_count": 62,
     "metadata": {},
     "output_type": "execute_result"
    }
   ],
   "source": [
    "df['Team'].unique().size"
   ]
  },
  {
   "cell_type": "code",
   "execution_count": 63,
   "id": "2eba7af3",
   "metadata": {},
   "outputs": [
    {
     "data": {
      "text/plain": [
       "MI       4\n",
       "CSK      3\n",
       "DL       2\n",
       "RR       2\n",
       "Kings    1\n",
       "Name: Team, dtype: int64"
      ]
     },
     "execution_count": 63,
     "metadata": {},
     "output_type": "execute_result"
    }
   ],
   "source": [
    "# find out total count teamwise\n",
    "df['Team'].value_counts()\n",
    "# default order Descending"
   ]
  },
  {
   "cell_type": "code",
   "execution_count": 64,
   "id": "841787ad",
   "metadata": {},
   "outputs": [
    {
     "data": {
      "text/plain": [
       "Kings    1\n",
       "DL       2\n",
       "RR       2\n",
       "CSK      3\n",
       "MI       4\n",
       "Name: Team, dtype: int64"
      ]
     },
     "execution_count": 64,
     "metadata": {},
     "output_type": "execute_result"
    }
   ],
   "source": [
    "# find out total count teamwise\n",
    "df['Team'].value_counts(ascending=True)\n",
    "# default order Ascending"
   ]
  },
  {
   "cell_type": "code",
   "execution_count": 65,
   "id": "f04dea4b",
   "metadata": {},
   "outputs": [
    {
     "data": {
      "text/html": [
       "<div>\n",
       "<style scoped>\n",
       "    .dataframe tbody tr th:only-of-type {\n",
       "        vertical-align: middle;\n",
       "    }\n",
       "\n",
       "    .dataframe tbody tr th {\n",
       "        vertical-align: top;\n",
       "    }\n",
       "\n",
       "    .dataframe thead th {\n",
       "        text-align: right;\n",
       "    }\n",
       "</style>\n",
       "<table border=\"1\" class=\"dataframe\">\n",
       "  <thead>\n",
       "    <tr style=\"text-align: right;\">\n",
       "      <th></th>\n",
       "      <th>Team</th>\n",
       "      <th>Rank</th>\n",
       "      <th>Year</th>\n",
       "      <th>Points</th>\n",
       "    </tr>\n",
       "  </thead>\n",
       "  <tbody>\n",
       "    <tr>\n",
       "      <th>0</th>\n",
       "      <td>MI</td>\n",
       "      <td>1</td>\n",
       "      <td>2014</td>\n",
       "      <td>876</td>\n",
       "    </tr>\n",
       "    <tr>\n",
       "      <th>1</th>\n",
       "      <td>DL</td>\n",
       "      <td>2</td>\n",
       "      <td>2015</td>\n",
       "      <td>789</td>\n",
       "    </tr>\n",
       "    <tr>\n",
       "      <th>2</th>\n",
       "      <td>MI</td>\n",
       "      <td>2</td>\n",
       "      <td>2014</td>\n",
       "      <td>863</td>\n",
       "    </tr>\n",
       "    <tr>\n",
       "      <th>3</th>\n",
       "      <td>DL</td>\n",
       "      <td>3</td>\n",
       "      <td>2015</td>\n",
       "      <td>673</td>\n",
       "    </tr>\n",
       "    <tr>\n",
       "      <th>4</th>\n",
       "      <td>Kings</td>\n",
       "      <td>3</td>\n",
       "      <td>2016</td>\n",
       "      <td>741</td>\n",
       "    </tr>\n",
       "    <tr>\n",
       "      <th>5</th>\n",
       "      <td>CSK</td>\n",
       "      <td>4</td>\n",
       "      <td>2015</td>\n",
       "      <td>812</td>\n",
       "    </tr>\n",
       "    <tr>\n",
       "      <th>6</th>\n",
       "      <td>CSK</td>\n",
       "      <td>1</td>\n",
       "      <td>2016</td>\n",
       "      <td>756</td>\n",
       "    </tr>\n",
       "    <tr>\n",
       "      <th>7</th>\n",
       "      <td>CSK</td>\n",
       "      <td>1</td>\n",
       "      <td>2017</td>\n",
       "      <td>788</td>\n",
       "    </tr>\n",
       "    <tr>\n",
       "      <th>8</th>\n",
       "      <td>MI</td>\n",
       "      <td>2</td>\n",
       "      <td>2016</td>\n",
       "      <td>694</td>\n",
       "    </tr>\n",
       "    <tr>\n",
       "      <th>9</th>\n",
       "      <td>RR</td>\n",
       "      <td>4</td>\n",
       "      <td>2014</td>\n",
       "      <td>701</td>\n",
       "    </tr>\n",
       "    <tr>\n",
       "      <th>10</th>\n",
       "      <td>RR</td>\n",
       "      <td>1</td>\n",
       "      <td>2015</td>\n",
       "      <td>804</td>\n",
       "    </tr>\n",
       "    <tr>\n",
       "      <th>11</th>\n",
       "      <td>MI</td>\n",
       "      <td>2</td>\n",
       "      <td>2017</td>\n",
       "      <td>690</td>\n",
       "    </tr>\n",
       "  </tbody>\n",
       "</table>\n",
       "</div>"
      ],
      "text/plain": [
       "     Team  Rank  Year  Points\n",
       "0      MI     1  2014     876\n",
       "1      DL     2  2015     789\n",
       "2      MI     2  2014     863\n",
       "3      DL     3  2015     673\n",
       "4   Kings     3  2016     741\n",
       "5     CSK     4  2015     812\n",
       "6     CSK     1  2016     756\n",
       "7     CSK     1  2017     788\n",
       "8      MI     2  2016     694\n",
       "9      RR     4  2014     701\n",
       "10     RR     1  2015     804\n",
       "11     MI     2  2017     690"
      ]
     },
     "execution_count": 65,
     "metadata": {},
     "output_type": "execute_result"
    }
   ],
   "source": [
    "df"
   ]
  },
  {
   "cell_type": "code",
   "execution_count": 66,
   "id": "aa58a761",
   "metadata": {},
   "outputs": [
    {
     "data": {
      "text/plain": [
       "Team      object\n",
       "Rank       int64\n",
       "Year       int64\n",
       "Points     int64\n",
       "dtype: object"
      ]
     },
     "execution_count": 66,
     "metadata": {},
     "output_type": "execute_result"
    }
   ],
   "source": [
    "df.dtypes"
   ]
  },
  {
   "cell_type": "code",
   "execution_count": 67,
   "id": "7fa6e4e9",
   "metadata": {},
   "outputs": [
    {
     "data": {
      "text/plain": [
       "<pandas.core.groupby.generic.DataFrameGroupBy object at 0x000002174986DA00>"
      ]
     },
     "execution_count": 67,
     "metadata": {},
     "output_type": "execute_result"
    }
   ],
   "source": [
    "# Group DataFrame using a mapper or by a series of columns.\n",
    "df.groupby('Team')\n",
    "#groupby on Team column"
   ]
  },
  {
   "cell_type": "code",
   "execution_count": 68,
   "id": "c325f3ba",
   "metadata": {},
   "outputs": [
    {
     "data": {
      "text/plain": [
       "[('CSK',\n",
       "    Team  Rank  Year  Points\n",
       "  5  CSK     4  2015     812\n",
       "  6  CSK     1  2016     756\n",
       "  7  CSK     1  2017     788),\n",
       " ('DL',\n",
       "    Team  Rank  Year  Points\n",
       "  1   DL     2  2015     789\n",
       "  3   DL     3  2015     673),\n",
       " ('Kings',\n",
       "      Team  Rank  Year  Points\n",
       "  4  Kings     3  2016     741),\n",
       " ('MI',\n",
       "     Team  Rank  Year  Points\n",
       "  0    MI     1  2014     876\n",
       "  2    MI     2  2014     863\n",
       "  8    MI     2  2016     694\n",
       "  11   MI     2  2017     690),\n",
       " ('RR',\n",
       "     Team  Rank  Year  Points\n",
       "  9    RR     4  2014     701\n",
       "  10   RR     1  2015     804)]"
      ]
     },
     "execution_count": 68,
     "metadata": {},
     "output_type": "execute_result"
    }
   ],
   "source": [
    "# typecast above: to get a output\n",
    "list(df.groupby('Team'))"
   ]
  },
  {
   "cell_type": "code",
   "execution_count": 70,
   "id": "091e5187",
   "metadata": {},
   "outputs": [
    {
     "data": {
      "text/plain": [
       "<pandas.core.groupby.generic.DataFrameGroupBy object at 0x000002174986DC70>"
      ]
     },
     "execution_count": 70,
     "metadata": {},
     "output_type": "execute_result"
    }
   ],
   "source": [
    "tm = df.groupby('Team')\n",
    "tm"
   ]
  },
  {
   "cell_type": "code",
   "execution_count": 71,
   "id": "cfc419fe",
   "metadata": {},
   "outputs": [
    {
     "name": "stdout",
     "output_type": "stream",
     "text": [
      "('CSK',   Team  Rank  Year  Points\n",
      "5  CSK     4  2015     812\n",
      "6  CSK     1  2016     756\n",
      "7  CSK     1  2017     788)\n",
      "\n",
      "('DL',   Team  Rank  Year  Points\n",
      "1   DL     2  2015     789\n",
      "3   DL     3  2015     673)\n",
      "\n",
      "('Kings',     Team  Rank  Year  Points\n",
      "4  Kings     3  2016     741)\n",
      "\n",
      "('MI',    Team  Rank  Year  Points\n",
      "0    MI     1  2014     876\n",
      "2    MI     2  2014     863\n",
      "8    MI     2  2016     694\n",
      "11   MI     2  2017     690)\n",
      "\n",
      "('RR',    Team  Rank  Year  Points\n",
      "9    RR     4  2014     701\n",
      "10   RR     1  2015     804)\n",
      "\n"
     ]
    }
   ],
   "source": [
    "for i in tm:\n",
    "    print(i, end='\\n\\n')"
   ]
  },
  {
   "cell_type": "code",
   "execution_count": null,
   "id": "46b3b1ca",
   "metadata": {},
   "outputs": [],
   "source": [
    "for i in tm:\n",
    "    print(i[, end='\\n\\n')"
   ]
  }
 ],
 "metadata": {
  "kernelspec": {
   "display_name": "Python 3 (ipykernel)",
   "language": "python",
   "name": "python3"
  },
  "language_info": {
   "codemirror_mode": {
    "name": "ipython",
    "version": 3
   },
   "file_extension": ".py",
   "mimetype": "text/x-python",
   "name": "python",
   "nbconvert_exporter": "python",
   "pygments_lexer": "ipython3",
   "version": "3.9.12"
  }
 },
 "nbformat": 4,
 "nbformat_minor": 5
}
